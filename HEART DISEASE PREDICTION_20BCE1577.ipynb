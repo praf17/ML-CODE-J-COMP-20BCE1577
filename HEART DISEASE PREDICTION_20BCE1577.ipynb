{
  "cells": [
    {
      "cell_type": "markdown",
      "metadata": {
        "_uuid": "bbd660b62cc616efa33651beedc49b86045b784d",
        "id": "UczV8h8DV4-G"
      },
      "source": [
        "\n",
        "\n",
        " "
      ]
    },
    {
      "cell_type": "markdown",
      "metadata": {
        "_uuid": "e41ea25bec5928203cec544d0413fecd4b4e5555",
        "id": "FVoYk7kSV4-I"
      },
      "source": [
        "## I. Importing essential libraries"
      ]
    },
    {
      "cell_type": "code",
      "execution_count": 1,
      "metadata": {
        "_uuid": "f571f7e57c828d45fe55f6136fe8c2e796f74d4e",
        "colab": {
          "base_uri": "https://localhost:8080/"
        },
        "id": "3XWtZ2JBV4-I",
        "outputId": "72d90d36-7e77-4b31-d947-276b93d9bd01"
      },
      "outputs": [
        {
          "output_type": "stream",
          "name": "stdout",
          "text": [
            "['.config', 'heart.csv', 'sample_data']\n"
          ]
        }
      ],
      "source": [
        "import numpy as np\n",
        "import pandas as pd\n",
        "import matplotlib.pyplot as plt\n",
        "import seaborn as sns\n",
        "\n",
        "%matplotlib inline\n",
        "\n",
        "import os\n",
        "print(os.listdir())\n",
        "\n",
        "import warnings\n",
        "warnings.filterwarnings('ignore')"
      ]
    },
    {
      "cell_type": "markdown",
      "metadata": {
        "_uuid": "44e71221837f6fa60edc2c83b7492ddb019cc1cd",
        "id": "Bz1Mnx7zV4-J"
      },
      "source": [
        "## II. Importing and understanding our dataset "
      ]
    },
    {
      "cell_type": "code",
      "execution_count": 2,
      "metadata": {
        "_uuid": "2a1a1dae64ae3c934849b2b918bc7d68cd59e3f6",
        "id": "9fNlJPkyV4-J"
      },
      "outputs": [],
      "source": [
        "dataset = pd.read_csv(\"heart.csv\")"
      ]
    },
    {
      "cell_type": "markdown",
      "metadata": {
        "_uuid": "481fa1d160a3256ef2470535bfb0574820fbaabd",
        "id": "IUw9KZcGV4-J"
      },
      "source": [
        "#### Verifying it as a 'dataframe' object in pandas"
      ]
    },
    {
      "cell_type": "code",
      "execution_count": 3,
      "metadata": {
        "_uuid": "86353d54a331dbf55a63874402cf13e2a72c3750",
        "colab": {
          "base_uri": "https://localhost:8080/"
        },
        "id": "ZvxmfV2fV4-J",
        "outputId": "e5a09d2d-1435-4b8e-9e4c-6ddb23766aae"
      },
      "outputs": [
        {
          "output_type": "execute_result",
          "data": {
            "text/plain": [
              "pandas.core.frame.DataFrame"
            ]
          },
          "metadata": {},
          "execution_count": 3
        }
      ],
      "source": [
        "type(dataset)"
      ]
    },
    {
      "cell_type": "markdown",
      "metadata": {
        "_uuid": "44649a50ce58d2e10a032f7d0e7ecf435e932481",
        "id": "m7uptkaAV4-K"
      },
      "source": [
        "#### Shape of dataset"
      ]
    },
    {
      "cell_type": "code",
      "execution_count": 4,
      "metadata": {
        "_uuid": "0a2396061d262bee451e61dd51be84d0bd1ac9d0",
        "colab": {
          "base_uri": "https://localhost:8080/"
        },
        "id": "-HNhiJscV4-K",
        "outputId": "78aff3bd-6941-417d-df8a-8907b7803bab"
      },
      "outputs": [
        {
          "output_type": "execute_result",
          "data": {
            "text/plain": [
              "(303, 14)"
            ]
          },
          "metadata": {},
          "execution_count": 4
        }
      ],
      "source": [
        "dataset.shape"
      ]
    },
    {
      "cell_type": "markdown",
      "metadata": {
        "_uuid": "3e1de0c39fc28f086a5e8377cc5fbdbf91d377b3",
        "id": "8_CpU-NrV4-K"
      },
      "source": [
        "#### Printing out a few columns"
      ]
    },
    {
      "cell_type": "code",
      "execution_count": 5,
      "metadata": {
        "_uuid": "87ebcc578e5959fe9a9c9a538c73122183454459",
        "colab": {
          "base_uri": "https://localhost:8080/",
          "height": 206
        },
        "id": "xTwWSIE-V4-K",
        "outputId": "cdfe108b-27a5-45ca-fb83-cd93c450a34f"
      },
      "outputs": [
        {
          "output_type": "execute_result",
          "data": {
            "text/plain": [
              "   age  sex  cp  trestbps  chol  fbs  restecg  thalach  exang  oldpeak  slope  \\\n",
              "0   63    1   3       145   233    1        0      150      0      2.3      0   \n",
              "1   37    1   2       130   250    0        1      187      0      3.5      0   \n",
              "2   41    0   1       130   204    0        0      172      0      1.4      2   \n",
              "3   56    1   1       120   236    0        1      178      0      0.8      2   \n",
              "4   57    0   0       120   354    0        1      163      1      0.6      2   \n",
              "\n",
              "   ca  thal  target  \n",
              "0   0     1       1  \n",
              "1   0     2       1  \n",
              "2   0     2       1  \n",
              "3   0     2       1  \n",
              "4   0     2       1  "
            ],
            "text/html": [
              "\n",
              "  <div id=\"df-4f57b76b-61e9-4863-b2c3-a9e9086052fb\">\n",
              "    <div class=\"colab-df-container\">\n",
              "      <div>\n",
              "<style scoped>\n",
              "    .dataframe tbody tr th:only-of-type {\n",
              "        vertical-align: middle;\n",
              "    }\n",
              "\n",
              "    .dataframe tbody tr th {\n",
              "        vertical-align: top;\n",
              "    }\n",
              "\n",
              "    .dataframe thead th {\n",
              "        text-align: right;\n",
              "    }\n",
              "</style>\n",
              "<table border=\"1\" class=\"dataframe\">\n",
              "  <thead>\n",
              "    <tr style=\"text-align: right;\">\n",
              "      <th></th>\n",
              "      <th>age</th>\n",
              "      <th>sex</th>\n",
              "      <th>cp</th>\n",
              "      <th>trestbps</th>\n",
              "      <th>chol</th>\n",
              "      <th>fbs</th>\n",
              "      <th>restecg</th>\n",
              "      <th>thalach</th>\n",
              "      <th>exang</th>\n",
              "      <th>oldpeak</th>\n",
              "      <th>slope</th>\n",
              "      <th>ca</th>\n",
              "      <th>thal</th>\n",
              "      <th>target</th>\n",
              "    </tr>\n",
              "  </thead>\n",
              "  <tbody>\n",
              "    <tr>\n",
              "      <th>0</th>\n",
              "      <td>63</td>\n",
              "      <td>1</td>\n",
              "      <td>3</td>\n",
              "      <td>145</td>\n",
              "      <td>233</td>\n",
              "      <td>1</td>\n",
              "      <td>0</td>\n",
              "      <td>150</td>\n",
              "      <td>0</td>\n",
              "      <td>2.3</td>\n",
              "      <td>0</td>\n",
              "      <td>0</td>\n",
              "      <td>1</td>\n",
              "      <td>1</td>\n",
              "    </tr>\n",
              "    <tr>\n",
              "      <th>1</th>\n",
              "      <td>37</td>\n",
              "      <td>1</td>\n",
              "      <td>2</td>\n",
              "      <td>130</td>\n",
              "      <td>250</td>\n",
              "      <td>0</td>\n",
              "      <td>1</td>\n",
              "      <td>187</td>\n",
              "      <td>0</td>\n",
              "      <td>3.5</td>\n",
              "      <td>0</td>\n",
              "      <td>0</td>\n",
              "      <td>2</td>\n",
              "      <td>1</td>\n",
              "    </tr>\n",
              "    <tr>\n",
              "      <th>2</th>\n",
              "      <td>41</td>\n",
              "      <td>0</td>\n",
              "      <td>1</td>\n",
              "      <td>130</td>\n",
              "      <td>204</td>\n",
              "      <td>0</td>\n",
              "      <td>0</td>\n",
              "      <td>172</td>\n",
              "      <td>0</td>\n",
              "      <td>1.4</td>\n",
              "      <td>2</td>\n",
              "      <td>0</td>\n",
              "      <td>2</td>\n",
              "      <td>1</td>\n",
              "    </tr>\n",
              "    <tr>\n",
              "      <th>3</th>\n",
              "      <td>56</td>\n",
              "      <td>1</td>\n",
              "      <td>1</td>\n",
              "      <td>120</td>\n",
              "      <td>236</td>\n",
              "      <td>0</td>\n",
              "      <td>1</td>\n",
              "      <td>178</td>\n",
              "      <td>0</td>\n",
              "      <td>0.8</td>\n",
              "      <td>2</td>\n",
              "      <td>0</td>\n",
              "      <td>2</td>\n",
              "      <td>1</td>\n",
              "    </tr>\n",
              "    <tr>\n",
              "      <th>4</th>\n",
              "      <td>57</td>\n",
              "      <td>0</td>\n",
              "      <td>0</td>\n",
              "      <td>120</td>\n",
              "      <td>354</td>\n",
              "      <td>0</td>\n",
              "      <td>1</td>\n",
              "      <td>163</td>\n",
              "      <td>1</td>\n",
              "      <td>0.6</td>\n",
              "      <td>2</td>\n",
              "      <td>0</td>\n",
              "      <td>2</td>\n",
              "      <td>1</td>\n",
              "    </tr>\n",
              "  </tbody>\n",
              "</table>\n",
              "</div>\n",
              "      <button class=\"colab-df-convert\" onclick=\"convertToInteractive('df-4f57b76b-61e9-4863-b2c3-a9e9086052fb')\"\n",
              "              title=\"Convert this dataframe to an interactive table.\"\n",
              "              style=\"display:none;\">\n",
              "        \n",
              "  <svg xmlns=\"http://www.w3.org/2000/svg\" height=\"24px\"viewBox=\"0 0 24 24\"\n",
              "       width=\"24px\">\n",
              "    <path d=\"M0 0h24v24H0V0z\" fill=\"none\"/>\n",
              "    <path d=\"M18.56 5.44l.94 2.06.94-2.06 2.06-.94-2.06-.94-.94-2.06-.94 2.06-2.06.94zm-11 1L8.5 8.5l.94-2.06 2.06-.94-2.06-.94L8.5 2.5l-.94 2.06-2.06.94zm10 10l.94 2.06.94-2.06 2.06-.94-2.06-.94-.94-2.06-.94 2.06-2.06.94z\"/><path d=\"M17.41 7.96l-1.37-1.37c-.4-.4-.92-.59-1.43-.59-.52 0-1.04.2-1.43.59L10.3 9.45l-7.72 7.72c-.78.78-.78 2.05 0 2.83L4 21.41c.39.39.9.59 1.41.59.51 0 1.02-.2 1.41-.59l7.78-7.78 2.81-2.81c.8-.78.8-2.07 0-2.86zM5.41 20L4 18.59l7.72-7.72 1.47 1.35L5.41 20z\"/>\n",
              "  </svg>\n",
              "      </button>\n",
              "      \n",
              "  <style>\n",
              "    .colab-df-container {\n",
              "      display:flex;\n",
              "      flex-wrap:wrap;\n",
              "      gap: 12px;\n",
              "    }\n",
              "\n",
              "    .colab-df-convert {\n",
              "      background-color: #E8F0FE;\n",
              "      border: none;\n",
              "      border-radius: 50%;\n",
              "      cursor: pointer;\n",
              "      display: none;\n",
              "      fill: #1967D2;\n",
              "      height: 32px;\n",
              "      padding: 0 0 0 0;\n",
              "      width: 32px;\n",
              "    }\n",
              "\n",
              "    .colab-df-convert:hover {\n",
              "      background-color: #E2EBFA;\n",
              "      box-shadow: 0px 1px 2px rgba(60, 64, 67, 0.3), 0px 1px 3px 1px rgba(60, 64, 67, 0.15);\n",
              "      fill: #174EA6;\n",
              "    }\n",
              "\n",
              "    [theme=dark] .colab-df-convert {\n",
              "      background-color: #3B4455;\n",
              "      fill: #D2E3FC;\n",
              "    }\n",
              "\n",
              "    [theme=dark] .colab-df-convert:hover {\n",
              "      background-color: #434B5C;\n",
              "      box-shadow: 0px 1px 3px 1px rgba(0, 0, 0, 0.15);\n",
              "      filter: drop-shadow(0px 1px 2px rgba(0, 0, 0, 0.3));\n",
              "      fill: #FFFFFF;\n",
              "    }\n",
              "  </style>\n",
              "\n",
              "      <script>\n",
              "        const buttonEl =\n",
              "          document.querySelector('#df-4f57b76b-61e9-4863-b2c3-a9e9086052fb button.colab-df-convert');\n",
              "        buttonEl.style.display =\n",
              "          google.colab.kernel.accessAllowed ? 'block' : 'none';\n",
              "\n",
              "        async function convertToInteractive(key) {\n",
              "          const element = document.querySelector('#df-4f57b76b-61e9-4863-b2c3-a9e9086052fb');\n",
              "          const dataTable =\n",
              "            await google.colab.kernel.invokeFunction('convertToInteractive',\n",
              "                                                     [key], {});\n",
              "          if (!dataTable) return;\n",
              "\n",
              "          const docLinkHtml = 'Like what you see? Visit the ' +\n",
              "            '<a target=\"_blank\" href=https://colab.research.google.com/notebooks/data_table.ipynb>data table notebook</a>'\n",
              "            + ' to learn more about interactive tables.';\n",
              "          element.innerHTML = '';\n",
              "          dataTable['output_type'] = 'display_data';\n",
              "          await google.colab.output.renderOutput(dataTable, element);\n",
              "          const docLink = document.createElement('div');\n",
              "          docLink.innerHTML = docLinkHtml;\n",
              "          element.appendChild(docLink);\n",
              "        }\n",
              "      </script>\n",
              "    </div>\n",
              "  </div>\n",
              "  "
            ]
          },
          "metadata": {},
          "execution_count": 5
        }
      ],
      "source": [
        "dataset.head(5)"
      ]
    },
    {
      "cell_type": "code",
      "execution_count": 6,
      "metadata": {
        "_uuid": "5132eb43114bf99d5f857f459d0c9d2faffc9644",
        "colab": {
          "base_uri": "https://localhost:8080/",
          "height": 206
        },
        "id": "BGDCUlmwV4-K",
        "outputId": "cbe106b8-81e0-4ab8-c170-8ff9e4b06d16"
      },
      "outputs": [
        {
          "output_type": "execute_result",
          "data": {
            "text/plain": [
              "     age  sex  cp  trestbps  chol  fbs  restecg  thalach  exang  oldpeak  \\\n",
              "162   41    1   1       120   157    0        1      182      0      0.0   \n",
              "69    62    0   0       124   209    0        1      163      0      0.0   \n",
              "3     56    1   1       120   236    0        1      178      0      0.8   \n",
              "4     57    0   0       120   354    0        1      163      1      0.6   \n",
              "128   52    0   2       136   196    0        0      169      0      0.1   \n",
              "\n",
              "     slope  ca  thal  target  \n",
              "162      2   0     2       1  \n",
              "69       2   0     2       1  \n",
              "3        2   0     2       1  \n",
              "4        2   0     2       1  \n",
              "128      1   0     2       1  "
            ],
            "text/html": [
              "\n",
              "  <div id=\"df-e0db3891-84d9-40a8-ab1f-a943d9948ba8\">\n",
              "    <div class=\"colab-df-container\">\n",
              "      <div>\n",
              "<style scoped>\n",
              "    .dataframe tbody tr th:only-of-type {\n",
              "        vertical-align: middle;\n",
              "    }\n",
              "\n",
              "    .dataframe tbody tr th {\n",
              "        vertical-align: top;\n",
              "    }\n",
              "\n",
              "    .dataframe thead th {\n",
              "        text-align: right;\n",
              "    }\n",
              "</style>\n",
              "<table border=\"1\" class=\"dataframe\">\n",
              "  <thead>\n",
              "    <tr style=\"text-align: right;\">\n",
              "      <th></th>\n",
              "      <th>age</th>\n",
              "      <th>sex</th>\n",
              "      <th>cp</th>\n",
              "      <th>trestbps</th>\n",
              "      <th>chol</th>\n",
              "      <th>fbs</th>\n",
              "      <th>restecg</th>\n",
              "      <th>thalach</th>\n",
              "      <th>exang</th>\n",
              "      <th>oldpeak</th>\n",
              "      <th>slope</th>\n",
              "      <th>ca</th>\n",
              "      <th>thal</th>\n",
              "      <th>target</th>\n",
              "    </tr>\n",
              "  </thead>\n",
              "  <tbody>\n",
              "    <tr>\n",
              "      <th>162</th>\n",
              "      <td>41</td>\n",
              "      <td>1</td>\n",
              "      <td>1</td>\n",
              "      <td>120</td>\n",
              "      <td>157</td>\n",
              "      <td>0</td>\n",
              "      <td>1</td>\n",
              "      <td>182</td>\n",
              "      <td>0</td>\n",
              "      <td>0.0</td>\n",
              "      <td>2</td>\n",
              "      <td>0</td>\n",
              "      <td>2</td>\n",
              "      <td>1</td>\n",
              "    </tr>\n",
              "    <tr>\n",
              "      <th>69</th>\n",
              "      <td>62</td>\n",
              "      <td>0</td>\n",
              "      <td>0</td>\n",
              "      <td>124</td>\n",
              "      <td>209</td>\n",
              "      <td>0</td>\n",
              "      <td>1</td>\n",
              "      <td>163</td>\n",
              "      <td>0</td>\n",
              "      <td>0.0</td>\n",
              "      <td>2</td>\n",
              "      <td>0</td>\n",
              "      <td>2</td>\n",
              "      <td>1</td>\n",
              "    </tr>\n",
              "    <tr>\n",
              "      <th>3</th>\n",
              "      <td>56</td>\n",
              "      <td>1</td>\n",
              "      <td>1</td>\n",
              "      <td>120</td>\n",
              "      <td>236</td>\n",
              "      <td>0</td>\n",
              "      <td>1</td>\n",
              "      <td>178</td>\n",
              "      <td>0</td>\n",
              "      <td>0.8</td>\n",
              "      <td>2</td>\n",
              "      <td>0</td>\n",
              "      <td>2</td>\n",
              "      <td>1</td>\n",
              "    </tr>\n",
              "    <tr>\n",
              "      <th>4</th>\n",
              "      <td>57</td>\n",
              "      <td>0</td>\n",
              "      <td>0</td>\n",
              "      <td>120</td>\n",
              "      <td>354</td>\n",
              "      <td>0</td>\n",
              "      <td>1</td>\n",
              "      <td>163</td>\n",
              "      <td>1</td>\n",
              "      <td>0.6</td>\n",
              "      <td>2</td>\n",
              "      <td>0</td>\n",
              "      <td>2</td>\n",
              "      <td>1</td>\n",
              "    </tr>\n",
              "    <tr>\n",
              "      <th>128</th>\n",
              "      <td>52</td>\n",
              "      <td>0</td>\n",
              "      <td>2</td>\n",
              "      <td>136</td>\n",
              "      <td>196</td>\n",
              "      <td>0</td>\n",
              "      <td>0</td>\n",
              "      <td>169</td>\n",
              "      <td>0</td>\n",
              "      <td>0.1</td>\n",
              "      <td>1</td>\n",
              "      <td>0</td>\n",
              "      <td>2</td>\n",
              "      <td>1</td>\n",
              "    </tr>\n",
              "  </tbody>\n",
              "</table>\n",
              "</div>\n",
              "      <button class=\"colab-df-convert\" onclick=\"convertToInteractive('df-e0db3891-84d9-40a8-ab1f-a943d9948ba8')\"\n",
              "              title=\"Convert this dataframe to an interactive table.\"\n",
              "              style=\"display:none;\">\n",
              "        \n",
              "  <svg xmlns=\"http://www.w3.org/2000/svg\" height=\"24px\"viewBox=\"0 0 24 24\"\n",
              "       width=\"24px\">\n",
              "    <path d=\"M0 0h24v24H0V0z\" fill=\"none\"/>\n",
              "    <path d=\"M18.56 5.44l.94 2.06.94-2.06 2.06-.94-2.06-.94-.94-2.06-.94 2.06-2.06.94zm-11 1L8.5 8.5l.94-2.06 2.06-.94-2.06-.94L8.5 2.5l-.94 2.06-2.06.94zm10 10l.94 2.06.94-2.06 2.06-.94-2.06-.94-.94-2.06-.94 2.06-2.06.94z\"/><path d=\"M17.41 7.96l-1.37-1.37c-.4-.4-.92-.59-1.43-.59-.52 0-1.04.2-1.43.59L10.3 9.45l-7.72 7.72c-.78.78-.78 2.05 0 2.83L4 21.41c.39.39.9.59 1.41.59.51 0 1.02-.2 1.41-.59l7.78-7.78 2.81-2.81c.8-.78.8-2.07 0-2.86zM5.41 20L4 18.59l7.72-7.72 1.47 1.35L5.41 20z\"/>\n",
              "  </svg>\n",
              "      </button>\n",
              "      \n",
              "  <style>\n",
              "    .colab-df-container {\n",
              "      display:flex;\n",
              "      flex-wrap:wrap;\n",
              "      gap: 12px;\n",
              "    }\n",
              "\n",
              "    .colab-df-convert {\n",
              "      background-color: #E8F0FE;\n",
              "      border: none;\n",
              "      border-radius: 50%;\n",
              "      cursor: pointer;\n",
              "      display: none;\n",
              "      fill: #1967D2;\n",
              "      height: 32px;\n",
              "      padding: 0 0 0 0;\n",
              "      width: 32px;\n",
              "    }\n",
              "\n",
              "    .colab-df-convert:hover {\n",
              "      background-color: #E2EBFA;\n",
              "      box-shadow: 0px 1px 2px rgba(60, 64, 67, 0.3), 0px 1px 3px 1px rgba(60, 64, 67, 0.15);\n",
              "      fill: #174EA6;\n",
              "    }\n",
              "\n",
              "    [theme=dark] .colab-df-convert {\n",
              "      background-color: #3B4455;\n",
              "      fill: #D2E3FC;\n",
              "    }\n",
              "\n",
              "    [theme=dark] .colab-df-convert:hover {\n",
              "      background-color: #434B5C;\n",
              "      box-shadow: 0px 1px 3px 1px rgba(0, 0, 0, 0.15);\n",
              "      filter: drop-shadow(0px 1px 2px rgba(0, 0, 0, 0.3));\n",
              "      fill: #FFFFFF;\n",
              "    }\n",
              "  </style>\n",
              "\n",
              "      <script>\n",
              "        const buttonEl =\n",
              "          document.querySelector('#df-e0db3891-84d9-40a8-ab1f-a943d9948ba8 button.colab-df-convert');\n",
              "        buttonEl.style.display =\n",
              "          google.colab.kernel.accessAllowed ? 'block' : 'none';\n",
              "\n",
              "        async function convertToInteractive(key) {\n",
              "          const element = document.querySelector('#df-e0db3891-84d9-40a8-ab1f-a943d9948ba8');\n",
              "          const dataTable =\n",
              "            await google.colab.kernel.invokeFunction('convertToInteractive',\n",
              "                                                     [key], {});\n",
              "          if (!dataTable) return;\n",
              "\n",
              "          const docLinkHtml = 'Like what you see? Visit the ' +\n",
              "            '<a target=\"_blank\" href=https://colab.research.google.com/notebooks/data_table.ipynb>data table notebook</a>'\n",
              "            + ' to learn more about interactive tables.';\n",
              "          element.innerHTML = '';\n",
              "          dataTable['output_type'] = 'display_data';\n",
              "          await google.colab.output.renderOutput(dataTable, element);\n",
              "          const docLink = document.createElement('div');\n",
              "          docLink.innerHTML = docLinkHtml;\n",
              "          element.appendChild(docLink);\n",
              "        }\n",
              "      </script>\n",
              "    </div>\n",
              "  </div>\n",
              "  "
            ]
          },
          "metadata": {},
          "execution_count": 6
        }
      ],
      "source": [
        "dataset.sample(5)"
      ]
    },
    {
      "cell_type": "markdown",
      "metadata": {
        "_uuid": "1113236bec2848d33c5bfe088ff0d03246b8b7ce",
        "id": "n_cbhgKdV4-K"
      },
      "source": [
        "#### Description"
      ]
    },
    {
      "cell_type": "code",
      "execution_count": 7,
      "metadata": {
        "_uuid": "c31619815cb0dae5586985671fdc21110b39a821",
        "colab": {
          "base_uri": "https://localhost:8080/",
          "height": 364
        },
        "id": "EBy7q8MQV4-K",
        "outputId": "a450862e-649d-4dd0-b49e-1163e9b60058"
      },
      "outputs": [
        {
          "output_type": "execute_result",
          "data": {
            "text/plain": [
              "              age         sex          cp    trestbps        chol         fbs  \\\n",
              "count  303.000000  303.000000  303.000000  303.000000  303.000000  303.000000   \n",
              "mean    54.366337    0.683168    0.966997  131.623762  246.264026    0.148515   \n",
              "std      9.082101    0.466011    1.032052   17.538143   51.830751    0.356198   \n",
              "min     29.000000    0.000000    0.000000   94.000000  126.000000    0.000000   \n",
              "25%     47.500000    0.000000    0.000000  120.000000  211.000000    0.000000   \n",
              "50%     55.000000    1.000000    1.000000  130.000000  240.000000    0.000000   \n",
              "75%     61.000000    1.000000    2.000000  140.000000  274.500000    0.000000   \n",
              "max     77.000000    1.000000    3.000000  200.000000  564.000000    1.000000   \n",
              "\n",
              "          restecg     thalach       exang     oldpeak       slope          ca  \\\n",
              "count  303.000000  303.000000  303.000000  303.000000  303.000000  303.000000   \n",
              "mean     0.528053  149.646865    0.326733    1.039604    1.399340    0.729373   \n",
              "std      0.525860   22.905161    0.469794    1.161075    0.616226    1.022606   \n",
              "min      0.000000   71.000000    0.000000    0.000000    0.000000    0.000000   \n",
              "25%      0.000000  133.500000    0.000000    0.000000    1.000000    0.000000   \n",
              "50%      1.000000  153.000000    0.000000    0.800000    1.000000    0.000000   \n",
              "75%      1.000000  166.000000    1.000000    1.600000    2.000000    1.000000   \n",
              "max      2.000000  202.000000    1.000000    6.200000    2.000000    4.000000   \n",
              "\n",
              "             thal      target  \n",
              "count  303.000000  303.000000  \n",
              "mean     2.313531    0.544554  \n",
              "std      0.612277    0.498835  \n",
              "min      0.000000    0.000000  \n",
              "25%      2.000000    0.000000  \n",
              "50%      2.000000    1.000000  \n",
              "75%      3.000000    1.000000  \n",
              "max      3.000000    1.000000  "
            ],
            "text/html": [
              "\n",
              "  <div id=\"df-82637f7d-7306-414c-be03-d6f66494b43f\">\n",
              "    <div class=\"colab-df-container\">\n",
              "      <div>\n",
              "<style scoped>\n",
              "    .dataframe tbody tr th:only-of-type {\n",
              "        vertical-align: middle;\n",
              "    }\n",
              "\n",
              "    .dataframe tbody tr th {\n",
              "        vertical-align: top;\n",
              "    }\n",
              "\n",
              "    .dataframe thead th {\n",
              "        text-align: right;\n",
              "    }\n",
              "</style>\n",
              "<table border=\"1\" class=\"dataframe\">\n",
              "  <thead>\n",
              "    <tr style=\"text-align: right;\">\n",
              "      <th></th>\n",
              "      <th>age</th>\n",
              "      <th>sex</th>\n",
              "      <th>cp</th>\n",
              "      <th>trestbps</th>\n",
              "      <th>chol</th>\n",
              "      <th>fbs</th>\n",
              "      <th>restecg</th>\n",
              "      <th>thalach</th>\n",
              "      <th>exang</th>\n",
              "      <th>oldpeak</th>\n",
              "      <th>slope</th>\n",
              "      <th>ca</th>\n",
              "      <th>thal</th>\n",
              "      <th>target</th>\n",
              "    </tr>\n",
              "  </thead>\n",
              "  <tbody>\n",
              "    <tr>\n",
              "      <th>count</th>\n",
              "      <td>303.000000</td>\n",
              "      <td>303.000000</td>\n",
              "      <td>303.000000</td>\n",
              "      <td>303.000000</td>\n",
              "      <td>303.000000</td>\n",
              "      <td>303.000000</td>\n",
              "      <td>303.000000</td>\n",
              "      <td>303.000000</td>\n",
              "      <td>303.000000</td>\n",
              "      <td>303.000000</td>\n",
              "      <td>303.000000</td>\n",
              "      <td>303.000000</td>\n",
              "      <td>303.000000</td>\n",
              "      <td>303.000000</td>\n",
              "    </tr>\n",
              "    <tr>\n",
              "      <th>mean</th>\n",
              "      <td>54.366337</td>\n",
              "      <td>0.683168</td>\n",
              "      <td>0.966997</td>\n",
              "      <td>131.623762</td>\n",
              "      <td>246.264026</td>\n",
              "      <td>0.148515</td>\n",
              "      <td>0.528053</td>\n",
              "      <td>149.646865</td>\n",
              "      <td>0.326733</td>\n",
              "      <td>1.039604</td>\n",
              "      <td>1.399340</td>\n",
              "      <td>0.729373</td>\n",
              "      <td>2.313531</td>\n",
              "      <td>0.544554</td>\n",
              "    </tr>\n",
              "    <tr>\n",
              "      <th>std</th>\n",
              "      <td>9.082101</td>\n",
              "      <td>0.466011</td>\n",
              "      <td>1.032052</td>\n",
              "      <td>17.538143</td>\n",
              "      <td>51.830751</td>\n",
              "      <td>0.356198</td>\n",
              "      <td>0.525860</td>\n",
              "      <td>22.905161</td>\n",
              "      <td>0.469794</td>\n",
              "      <td>1.161075</td>\n",
              "      <td>0.616226</td>\n",
              "      <td>1.022606</td>\n",
              "      <td>0.612277</td>\n",
              "      <td>0.498835</td>\n",
              "    </tr>\n",
              "    <tr>\n",
              "      <th>min</th>\n",
              "      <td>29.000000</td>\n",
              "      <td>0.000000</td>\n",
              "      <td>0.000000</td>\n",
              "      <td>94.000000</td>\n",
              "      <td>126.000000</td>\n",
              "      <td>0.000000</td>\n",
              "      <td>0.000000</td>\n",
              "      <td>71.000000</td>\n",
              "      <td>0.000000</td>\n",
              "      <td>0.000000</td>\n",
              "      <td>0.000000</td>\n",
              "      <td>0.000000</td>\n",
              "      <td>0.000000</td>\n",
              "      <td>0.000000</td>\n",
              "    </tr>\n",
              "    <tr>\n",
              "      <th>25%</th>\n",
              "      <td>47.500000</td>\n",
              "      <td>0.000000</td>\n",
              "      <td>0.000000</td>\n",
              "      <td>120.000000</td>\n",
              "      <td>211.000000</td>\n",
              "      <td>0.000000</td>\n",
              "      <td>0.000000</td>\n",
              "      <td>133.500000</td>\n",
              "      <td>0.000000</td>\n",
              "      <td>0.000000</td>\n",
              "      <td>1.000000</td>\n",
              "      <td>0.000000</td>\n",
              "      <td>2.000000</td>\n",
              "      <td>0.000000</td>\n",
              "    </tr>\n",
              "    <tr>\n",
              "      <th>50%</th>\n",
              "      <td>55.000000</td>\n",
              "      <td>1.000000</td>\n",
              "      <td>1.000000</td>\n",
              "      <td>130.000000</td>\n",
              "      <td>240.000000</td>\n",
              "      <td>0.000000</td>\n",
              "      <td>1.000000</td>\n",
              "      <td>153.000000</td>\n",
              "      <td>0.000000</td>\n",
              "      <td>0.800000</td>\n",
              "      <td>1.000000</td>\n",
              "      <td>0.000000</td>\n",
              "      <td>2.000000</td>\n",
              "      <td>1.000000</td>\n",
              "    </tr>\n",
              "    <tr>\n",
              "      <th>75%</th>\n",
              "      <td>61.000000</td>\n",
              "      <td>1.000000</td>\n",
              "      <td>2.000000</td>\n",
              "      <td>140.000000</td>\n",
              "      <td>274.500000</td>\n",
              "      <td>0.000000</td>\n",
              "      <td>1.000000</td>\n",
              "      <td>166.000000</td>\n",
              "      <td>1.000000</td>\n",
              "      <td>1.600000</td>\n",
              "      <td>2.000000</td>\n",
              "      <td>1.000000</td>\n",
              "      <td>3.000000</td>\n",
              "      <td>1.000000</td>\n",
              "    </tr>\n",
              "    <tr>\n",
              "      <th>max</th>\n",
              "      <td>77.000000</td>\n",
              "      <td>1.000000</td>\n",
              "      <td>3.000000</td>\n",
              "      <td>200.000000</td>\n",
              "      <td>564.000000</td>\n",
              "      <td>1.000000</td>\n",
              "      <td>2.000000</td>\n",
              "      <td>202.000000</td>\n",
              "      <td>1.000000</td>\n",
              "      <td>6.200000</td>\n",
              "      <td>2.000000</td>\n",
              "      <td>4.000000</td>\n",
              "      <td>3.000000</td>\n",
              "      <td>1.000000</td>\n",
              "    </tr>\n",
              "  </tbody>\n",
              "</table>\n",
              "</div>\n",
              "      <button class=\"colab-df-convert\" onclick=\"convertToInteractive('df-82637f7d-7306-414c-be03-d6f66494b43f')\"\n",
              "              title=\"Convert this dataframe to an interactive table.\"\n",
              "              style=\"display:none;\">\n",
              "        \n",
              "  <svg xmlns=\"http://www.w3.org/2000/svg\" height=\"24px\"viewBox=\"0 0 24 24\"\n",
              "       width=\"24px\">\n",
              "    <path d=\"M0 0h24v24H0V0z\" fill=\"none\"/>\n",
              "    <path d=\"M18.56 5.44l.94 2.06.94-2.06 2.06-.94-2.06-.94-.94-2.06-.94 2.06-2.06.94zm-11 1L8.5 8.5l.94-2.06 2.06-.94-2.06-.94L8.5 2.5l-.94 2.06-2.06.94zm10 10l.94 2.06.94-2.06 2.06-.94-2.06-.94-.94-2.06-.94 2.06-2.06.94z\"/><path d=\"M17.41 7.96l-1.37-1.37c-.4-.4-.92-.59-1.43-.59-.52 0-1.04.2-1.43.59L10.3 9.45l-7.72 7.72c-.78.78-.78 2.05 0 2.83L4 21.41c.39.39.9.59 1.41.59.51 0 1.02-.2 1.41-.59l7.78-7.78 2.81-2.81c.8-.78.8-2.07 0-2.86zM5.41 20L4 18.59l7.72-7.72 1.47 1.35L5.41 20z\"/>\n",
              "  </svg>\n",
              "      </button>\n",
              "      \n",
              "  <style>\n",
              "    .colab-df-container {\n",
              "      display:flex;\n",
              "      flex-wrap:wrap;\n",
              "      gap: 12px;\n",
              "    }\n",
              "\n",
              "    .colab-df-convert {\n",
              "      background-color: #E8F0FE;\n",
              "      border: none;\n",
              "      border-radius: 50%;\n",
              "      cursor: pointer;\n",
              "      display: none;\n",
              "      fill: #1967D2;\n",
              "      height: 32px;\n",
              "      padding: 0 0 0 0;\n",
              "      width: 32px;\n",
              "    }\n",
              "\n",
              "    .colab-df-convert:hover {\n",
              "      background-color: #E2EBFA;\n",
              "      box-shadow: 0px 1px 2px rgba(60, 64, 67, 0.3), 0px 1px 3px 1px rgba(60, 64, 67, 0.15);\n",
              "      fill: #174EA6;\n",
              "    }\n",
              "\n",
              "    [theme=dark] .colab-df-convert {\n",
              "      background-color: #3B4455;\n",
              "      fill: #D2E3FC;\n",
              "    }\n",
              "\n",
              "    [theme=dark] .colab-df-convert:hover {\n",
              "      background-color: #434B5C;\n",
              "      box-shadow: 0px 1px 3px 1px rgba(0, 0, 0, 0.15);\n",
              "      filter: drop-shadow(0px 1px 2px rgba(0, 0, 0, 0.3));\n",
              "      fill: #FFFFFF;\n",
              "    }\n",
              "  </style>\n",
              "\n",
              "      <script>\n",
              "        const buttonEl =\n",
              "          document.querySelector('#df-82637f7d-7306-414c-be03-d6f66494b43f button.colab-df-convert');\n",
              "        buttonEl.style.display =\n",
              "          google.colab.kernel.accessAllowed ? 'block' : 'none';\n",
              "\n",
              "        async function convertToInteractive(key) {\n",
              "          const element = document.querySelector('#df-82637f7d-7306-414c-be03-d6f66494b43f');\n",
              "          const dataTable =\n",
              "            await google.colab.kernel.invokeFunction('convertToInteractive',\n",
              "                                                     [key], {});\n",
              "          if (!dataTable) return;\n",
              "\n",
              "          const docLinkHtml = 'Like what you see? Visit the ' +\n",
              "            '<a target=\"_blank\" href=https://colab.research.google.com/notebooks/data_table.ipynb>data table notebook</a>'\n",
              "            + ' to learn more about interactive tables.';\n",
              "          element.innerHTML = '';\n",
              "          dataTable['output_type'] = 'display_data';\n",
              "          await google.colab.output.renderOutput(dataTable, element);\n",
              "          const docLink = document.createElement('div');\n",
              "          docLink.innerHTML = docLinkHtml;\n",
              "          element.appendChild(docLink);\n",
              "        }\n",
              "      </script>\n",
              "    </div>\n",
              "  </div>\n",
              "  "
            ]
          },
          "metadata": {},
          "execution_count": 7
        }
      ],
      "source": [
        "dataset.describe()"
      ]
    },
    {
      "cell_type": "code",
      "execution_count": 8,
      "metadata": {
        "_uuid": "718b82039841c137ab7e08a6e79e264643134642",
        "colab": {
          "base_uri": "https://localhost:8080/"
        },
        "id": "Y4U5o9gLV4-K",
        "outputId": "2435c961-05ff-4b20-d8fe-15d01b083a84"
      },
      "outputs": [
        {
          "output_type": "stream",
          "name": "stdout",
          "text": [
            "<class 'pandas.core.frame.DataFrame'>\n",
            "RangeIndex: 303 entries, 0 to 302\n",
            "Data columns (total 14 columns):\n",
            " #   Column    Non-Null Count  Dtype  \n",
            "---  ------    --------------  -----  \n",
            " 0   age       303 non-null    int64  \n",
            " 1   sex       303 non-null    int64  \n",
            " 2   cp        303 non-null    int64  \n",
            " 3   trestbps  303 non-null    int64  \n",
            " 4   chol      303 non-null    int64  \n",
            " 5   fbs       303 non-null    int64  \n",
            " 6   restecg   303 non-null    int64  \n",
            " 7   thalach   303 non-null    int64  \n",
            " 8   exang     303 non-null    int64  \n",
            " 9   oldpeak   303 non-null    float64\n",
            " 10  slope     303 non-null    int64  \n",
            " 11  ca        303 non-null    int64  \n",
            " 12  thal      303 non-null    int64  \n",
            " 13  target    303 non-null    int64  \n",
            "dtypes: float64(1), int64(13)\n",
            "memory usage: 33.3 KB\n"
          ]
        }
      ],
      "source": [
        "dataset.info()"
      ]
    },
    {
      "cell_type": "code",
      "execution_count": 9,
      "metadata": {
        "_uuid": "99d7182ca186d37f63b1fc433fe74ad5e2bc7d2f",
        "id": "tIAmgyAXV4-L"
      },
      "outputs": [],
      "source": [
        "###Luckily, we have no missing values"
      ]
    },
    {
      "cell_type": "markdown",
      "metadata": {
        "_uuid": "85b59fefde7c5ecdb50e3b8da0cb719f4e14630f",
        "id": "hohnaztSV4-L"
      },
      "source": [
        "#### Let's understand our columns better:"
      ]
    },
    {
      "cell_type": "code",
      "execution_count": 10,
      "metadata": {
        "_uuid": "5593d1021d54aad598c21f877e57969e6b47f5a8",
        "colab": {
          "base_uri": "https://localhost:8080/"
        },
        "id": "nx3eCwGrV4-L",
        "outputId": "464a4ae2-fcd8-4171-d0d7-2117354e5490"
      },
      "outputs": [
        {
          "output_type": "stream",
          "name": "stdout",
          "text": [
            "age:\t\t\tage\n",
            "sex:\t\t\t1: male, 0: female\n",
            "cp:\t\t\tchest pain type, 1: typical angina, 2: atypical angina, 3: non-anginal pain, 4: asymptomatic\n",
            "trestbps:\t\t\tresting blood pressure\n",
            "chol:\t\t\t serum cholestoral in mg/dl\n",
            "fbs:\t\t\tfasting blood sugar > 120 mg/dl\n",
            "restecg:\t\t\tresting electrocardiographic results (values 0,1,2)\n",
            "thalach:\t\t\t maximum heart rate achieved\n",
            "exang:\t\t\texercise induced angina\n",
            "oldpeak:\t\t\toldpeak = ST depression induced by exercise relative to rest\n",
            "slope:\t\t\tthe slope of the peak exercise ST segment\n",
            "ca:\t\t\tnumber of major vessels (0-3) colored by flourosopy\n",
            "thal:\t\t\tthal: 3 = normal; 6 = fixed defect; 7 = reversable defect\n"
          ]
        }
      ],
      "source": [
        "info = [\"age\",\"1: male, 0: female\",\"chest pain type, 1: typical angina, 2: atypical angina, 3: non-anginal pain, 4: asymptomatic\",\"resting blood pressure\",\" serum cholestoral in mg/dl\",\"fasting blood sugar > 120 mg/dl\",\"resting electrocardiographic results (values 0,1,2)\",\" maximum heart rate achieved\",\"exercise induced angina\",\"oldpeak = ST depression induced by exercise relative to rest\",\"the slope of the peak exercise ST segment\",\"number of major vessels (0-3) colored by flourosopy\",\"thal: 3 = normal; 6 = fixed defect; 7 = reversable defect\"]\n",
        "\n",
        "\n",
        "\n",
        "for i in range(len(info)):\n",
        "    print(dataset.columns[i]+\":\\t\\t\\t\"+info[i])"
      ]
    },
    {
      "cell_type": "markdown",
      "metadata": {
        "_uuid": "6a970312b67b588610a8579ecc2ba4bac0fcee04",
        "id": "jJ4AlEqvV4-L"
      },
      "source": [
        "#### Analysing the 'target' variable"
      ]
    },
    {
      "cell_type": "code",
      "execution_count": 11,
      "metadata": {
        "_uuid": "b883243919bd382193ed15e2a90f9b522bf6f1f7",
        "colab": {
          "base_uri": "https://localhost:8080/"
        },
        "id": "f8LlcDC3V4-L",
        "outputId": "a8003c17-d787-4756-fee7-732d55883ab7"
      },
      "outputs": [
        {
          "output_type": "execute_result",
          "data": {
            "text/plain": [
              "count    303.000000\n",
              "mean       0.544554\n",
              "std        0.498835\n",
              "min        0.000000\n",
              "25%        0.000000\n",
              "50%        1.000000\n",
              "75%        1.000000\n",
              "max        1.000000\n",
              "Name: target, dtype: float64"
            ]
          },
          "metadata": {},
          "execution_count": 11
        }
      ],
      "source": [
        "dataset[\"target\"].describe()"
      ]
    },
    {
      "cell_type": "code",
      "execution_count": 12,
      "metadata": {
        "_uuid": "9c107b83e0148914826282bf1f0ab28505d577ab",
        "colab": {
          "base_uri": "https://localhost:8080/"
        },
        "id": "E2LNIQS3V4-L",
        "outputId": "96ffae94-f6c1-423d-b8e6-90cb2c32c376"
      },
      "outputs": [
        {
          "output_type": "execute_result",
          "data": {
            "text/plain": [
              "array([1, 0])"
            ]
          },
          "metadata": {},
          "execution_count": 12
        }
      ],
      "source": [
        "dataset[\"target\"].unique()"
      ]
    },
    {
      "cell_type": "markdown",
      "metadata": {
        "_uuid": "3ae0dfa26e2daf4cfc8e1c6f3b5008d0dab22ec0",
        "id": "x6232Q3JV4-L"
      },
      "source": [
        "### Checking correlation between columns"
      ]
    },
    {
      "cell_type": "code",
      "execution_count": 13,
      "metadata": {
        "_uuid": "3059188d3874be2e0c80e13655609ac6a6fc644f",
        "colab": {
          "base_uri": "https://localhost:8080/"
        },
        "id": "WTZGDIN1V4-L",
        "outputId": "1b50140c-0a71-42f5-9277-909e92d9eafc"
      },
      "outputs": [
        {
          "output_type": "stream",
          "name": "stdout",
          "text": [
            "target      1.000000\n",
            "exang       0.436757\n",
            "cp          0.433798\n",
            "oldpeak     0.430696\n",
            "thalach     0.421741\n",
            "ca          0.391724\n",
            "slope       0.345877\n",
            "thal        0.344029\n",
            "sex         0.280937\n",
            "age         0.225439\n",
            "trestbps    0.144931\n",
            "restecg     0.137230\n",
            "chol        0.085239\n",
            "fbs         0.028046\n",
            "Name: target, dtype: float64\n"
          ]
        }
      ],
      "source": [
        "print(dataset.corr()[\"target\"].abs().sort_values(ascending=False))"
      ]
    },
    {
      "cell_type": "code",
      "execution_count": 14,
      "metadata": {
        "_uuid": "6e8cf6f86952d94764c1021207fa5b383b2b84bf",
        "id": "CaxjuO0JV4-L"
      },
      "outputs": [],
      "source": [
        "#This shows that most columns are moderately correlated with target, but 'fbs' is very weakly correlated."
      ]
    },
    {
      "cell_type": "markdown",
      "metadata": {
        "_uuid": "41da6ba94903ad6ee64b1ba6a1462815ae603536",
        "id": "tTcKmYpZV4-M"
      },
      "source": [
        "### First, analysing the target variable:"
      ]
    },
    {
      "cell_type": "code",
      "execution_count": 15,
      "metadata": {
        "_uuid": "29aa23ccb8e6438688e16346b3474f4cc03bae13",
        "colab": {
          "base_uri": "https://localhost:8080/",
          "height": 484
        },
        "id": "ERRWm8_gV4-M",
        "outputId": "c226a4ae-11c4-4575-ec2b-2795163901cf"
      },
      "outputs": [
        {
          "output_type": "stream",
          "name": "stdout",
          "text": [
            "1    165\n",
            "0    138\n",
            "Name: target, dtype: int64\n"
          ]
        },
        {
          "output_type": "display_data",
          "data": {
            "text/plain": [
              "<Figure size 640x480 with 1 Axes>"
            ],
            "image/png": "[encoded data removed]"
          },
          "metadata": {}
        }
      ],
      "source": [
        "y = dataset[\"target\"]\n",
        "\n",
        "sns.countplot(y)\n",
        "\n",
        "\n",
        "target_temp = dataset.target.value_counts()\n",
        "\n",
        "print(target_temp)"
      ]
    },
    {
      "cell_type": "code",
      "execution_count": 16,
      "metadata": {
        "_uuid": "5240af8bcd12736900050cea077c713d7d9641df",
        "colab": {
          "base_uri": "https://localhost:8080/"
        },
        "id": "fYy6K0ugV4-M",
        "outputId": "b708e883-3ca6-4619-8577-37ee6717844a"
      },
      "outputs": [
        {
          "output_type": "stream",
          "name": "stdout",
          "text": [
            "Percentage of patience without heart problems: 45.54\n",
            "Percentage of patience with heart problems: 54.46\n"
          ]
        }
      ],
      "source": [
        "print(\"Percentage of patience without heart problems: \"+str(round(target_temp[0]*100/303,2)))\n",
        "print(\"Percentage of patience with heart problems: \"+str(round(target_temp[1]*100/303,2)))\n",
        "\n",
        "#Alternatively,\n",
        "# print(\"Percentage of patience with heart problems: \"+str(y.where(y==1).count()*100/303))\n",
        "# print(\"Percentage of patience with heart problems: \"+str(y.where(y==0).count()*100/303))\n",
        "\n",
        "# #Or,\n",
        "# countNoDisease = len(df[df.target == 0])\n",
        "# countHaveDisease = len(df[df.target == 1])"
      ]
    },
    {
      "cell_type": "markdown",
      "metadata": {
        "_uuid": "e7de1da221d4ee72e89c365fecfa7d4506f1b184",
        "id": "bibsJSLGV4-M"
      },
      "source": [
        "### We'll analyse 'sex', 'cp', 'fbs', 'restecg', 'exang', 'slope', 'ca' and 'thal' features"
      ]
    },
    {
      "cell_type": "markdown",
      "metadata": {
        "_uuid": "82f9919a1312b53f22980a0071d077e5b0288d90",
        "id": "0Z_11FESV4-M"
      },
      "source": [
        "### Analysing the 'Sex' feature"
      ]
    },
    {
      "cell_type": "code",
      "execution_count": 19,
      "metadata": {
        "_uuid": "07a3fb2f44b82360d0393377029851655bcdcd31",
        "colab": {
          "base_uri": "https://localhost:8080/"
        },
        "id": "-xvRYYWbV4-M",
        "outputId": "7d589ff7-06aa-44d2-c7e2-8cd3173ed6b9"
      },
      "outputs": [
        {
          "output_type": "execute_result",
          "data": {
            "text/plain": [
              "array([1, 0])"
            ]
          },
          "metadata": {},
          "execution_count": 19
        }
      ],
      "source": [
        "dataset[\"sex\"].unique()"
      ]
    },
    {
      "cell_type": "markdown",
      "metadata": {
        "_uuid": "623fe97e454ea061942ec6d948adeb5b7026cc65",
        "id": "Crzn95MjV4-M"
      },
      "source": [
        "##### We notice, that as expected, the 'sex' feature has 2 unique features"
      ]
    },
    {
      "cell_type": "code",
      "execution_count": 20,
      "metadata": {
        "_uuid": "5d10e6c167251e6d3b1b82a06159da234eeef721",
        "colab": {
          "base_uri": "https://localhost:8080/",
          "height": 169
        },
        "id": "O6_ZzCqGV4-M",
        "outputId": "ec1e75cc-3771-4737-dcb1-2044374eb17c"
      },
      "outputs": [
        {
          "output_type": "error",
          "ename": "TypeError",
          "evalue": "ignored",
          "traceback": [
            "\u001b[0;31m---------------------------------------------------------------------------\u001b[0m",
            "\u001b[0;31mTypeError\u001b[0m                                 Traceback (most recent call last)",
            "\u001b[0;32m<ipython-input-20-a4128115244b>\u001b[0m in \u001b[0;36m<cell line: 1>\u001b[0;34m()\u001b[0m\n\u001b[0;32m----> 1\u001b[0;31m \u001b[0msns\u001b[0m\u001b[0;34m.\u001b[0m\u001b[0mbarplot\u001b[0m\u001b[0;34m(\u001b[0m\u001b[0mdataset\u001b[0m\u001b[0;34m[\u001b[0m\u001b[0;34m\"sex\"\u001b[0m\u001b[0;34m]\u001b[0m\u001b[0;34m,\u001b[0m\u001b[0my\u001b[0m\u001b[0;34m)\u001b[0m\u001b[0;34m\u001b[0m\u001b[0;34m\u001b[0m\u001b[0m\n\u001b[0m",
            "\u001b[0;31mTypeError\u001b[0m: barplot() takes from 0 to 1 positional arguments but 2 were given"
          ]
        }
      ],
      "source": [
        "sns.barplot(dataset[\"sex\"],y)"
      ]
    },
    {
      "cell_type": "markdown",
      "metadata": {
        "_uuid": "31142d6b72ae034487a088860fe9c7ff85cf7ca2",
        "id": "rl4o4dE7V4-M"
      },
      "source": [
        "##### We notice, that females are more likely to have heart problems than males"
      ]
    },
    {
      "cell_type": "markdown",
      "metadata": {
        "_uuid": "f7bbd747b02746eadfa2b525544509c8545ac1af",
        "id": "lEPEol0UV4-M"
      },
      "source": [
        "### Analysing the 'Chest Pain Type' feature"
      ]
    },
    {
      "cell_type": "code",
      "execution_count": null,
      "metadata": {
        "_uuid": "7c795d4a86ee05d58e10a412add90065afbd4a70",
        "id": "hghAWoVYV4-M"
      },
      "outputs": [],
      "source": [
        "dataset[\"cp\"].unique()"
      ]
    },
    {
      "cell_type": "markdown",
      "metadata": {
        "_uuid": "4e83947e6876ffa63837c7e5ce1364a53cbfa499",
        "id": "yBcoaEcFV4-N"
      },
      "source": [
        "##### As expected, the CP feature has values from 0 to 3"
      ]
    },
    {
      "cell_type": "code",
      "execution_count": null,
      "metadata": {
        "_uuid": "56d6ed2b3d8d20a61814980cd459502b452d14c1",
        "id": "TWS9oR9hV4-N"
      },
      "outputs": [],
      "source": [
        "sns.barplot(dataset[\"cp\"],y)"
      ]
    },
    {
      "cell_type": "markdown",
      "metadata": {
        "_uuid": "510c7c3a7386a7e308cc6052025dc806fad61534",
        "id": "akqvoPhMV4-N"
      },
      "source": [
        "##### We notice, that chest pain of '0', i.e. the ones with typical angina are much less likely to have heart problems"
      ]
    },
    {
      "cell_type": "markdown",
      "metadata": {
        "_uuid": "bb50bd1cedd31d29683e2411439368aa1390e7ef",
        "id": "dyyuo5gAV4-N"
      },
      "source": [
        "### Analysing the FBS feature"
      ]
    },
    {
      "cell_type": "code",
      "execution_count": null,
      "metadata": {
        "_uuid": "55f9ca01da5294b5404f3eb14d202ae90e0ea1bf",
        "id": "qstOVzHjV4-N"
      },
      "outputs": [],
      "source": [
        "dataset[\"fbs\"].describe()"
      ]
    },
    {
      "cell_type": "code",
      "execution_count": null,
      "metadata": {
        "_uuid": "43d491d311a8b96a6a9cbecbeff87f577584cd3a",
        "id": "FXdnf2KPV4-N"
      },
      "outputs": [],
      "source": [
        "dataset[\"fbs\"].unique()"
      ]
    },
    {
      "cell_type": "code",
      "execution_count": null,
      "metadata": {
        "_uuid": "90509dcee97df858115131c771e69347a044aafb",
        "id": "ALNGJNr_V4-N"
      },
      "outputs": [],
      "source": [
        "sns.barplot(dataset[\"fbs\"],y)"
      ]
    },
    {
      "cell_type": "markdown",
      "metadata": {
        "_uuid": "7ec0ef582de18e2ddd06083d4caca7f760ba3700",
        "id": "M1AIheiUV4-N"
      },
      "source": [
        "##### Nothing extraordinary here"
      ]
    },
    {
      "cell_type": "markdown",
      "metadata": {
        "_uuid": "5a8d6384c879ed40eddefed03b16607bc02deecf",
        "id": "JXyWpIdcV4-N"
      },
      "source": [
        "### Analysing the restecg feature"
      ]
    },
    {
      "cell_type": "code",
      "execution_count": null,
      "metadata": {
        "_uuid": "b12fcc535fe07bc58aa99e97ec9b4e0b01f30a8d",
        "id": "vsscYwBEV4-N"
      },
      "outputs": [],
      "source": [
        "dataset[\"restecg\"].unique()"
      ]
    },
    {
      "cell_type": "code",
      "execution_count": null,
      "metadata": {
        "_uuid": "ccae9489c2b6e63adb87cef83d367f49ef08a133",
        "id": "GimDKpndV4-N"
      },
      "outputs": [],
      "source": [
        "sns.barplot(dataset[\"restecg\"],y)"
      ]
    },
    {
      "cell_type": "markdown",
      "metadata": {
        "_uuid": "84cf1d3ca8d3507765bbb3763834c3795380f1bf",
        "id": "6l3boCHQV4-N"
      },
      "source": [
        "##### We realize that people with restecg '1' and '0' are much more likely to have a heart disease than with restecg '2'"
      ]
    },
    {
      "cell_type": "markdown",
      "metadata": {
        "_uuid": "efaf4d85a6837cf43bd5b33d4eaaf193bc6fedc1",
        "id": "JvyZNy9qV4-N"
      },
      "source": [
        "### Analysing the 'exang' feature"
      ]
    },
    {
      "cell_type": "code",
      "execution_count": null,
      "metadata": {
        "_uuid": "53dd2985ea50aa6f9c9e5931050b4ef7b7aa609d",
        "id": "Qc937yjcV4-N"
      },
      "outputs": [],
      "source": [
        "dataset[\"exang\"].unique()"
      ]
    },
    {
      "cell_type": "code",
      "execution_count": null,
      "metadata": {
        "_uuid": "237a60a2a11dab86e50cafcee4ec47df752876a1",
        "id": "nkIvS0W-V4-O"
      },
      "outputs": [],
      "source": [
        "sns.barplot(dataset[\"exang\"],y)"
      ]
    },
    {
      "cell_type": "markdown",
      "metadata": {
        "_uuid": "f442f08734344740ebc225af7a565bcb91962dca",
        "id": "Pu7IL4kFV4-O"
      },
      "source": [
        "##### People with exang=1 i.e. Exercise induced angina are much less likely to have heart problems"
      ]
    },
    {
      "cell_type": "markdown",
      "metadata": {
        "_uuid": "4ce2d649ededc2126324cd07ce430b005697e288",
        "id": "2VcoMP-rV4-O"
      },
      "source": [
        "### Analysing the Slope feature"
      ]
    },
    {
      "cell_type": "code",
      "execution_count": null,
      "metadata": {
        "_uuid": "e1e148d25967c36d2bb5fbfb802c70dae93f8a4f",
        "id": "C9TH2dNzV4-O"
      },
      "outputs": [],
      "source": [
        "dataset[\"slope\"].unique()"
      ]
    },
    {
      "cell_type": "code",
      "execution_count": null,
      "metadata": {
        "_uuid": "beaa943c166b3c550fe357e6e937dbda46b707c9",
        "id": "NH4SlRRPV4-O"
      },
      "outputs": [],
      "source": [
        "sns.barplot(dataset[\"slope\"],y)"
      ]
    },
    {
      "cell_type": "markdown",
      "metadata": {
        "_uuid": "3141a4a203dd433dd7af6c02c1d0b44d048656a0",
        "id": "Y4SwSMyHV4-O"
      },
      "source": [
        "##### We observe, that Slope '2' causes heart pain much more than Slope '0' and '1'"
      ]
    },
    {
      "cell_type": "markdown",
      "metadata": {
        "_uuid": "c0b39456274f1e0f402704714494161ddc55f16a",
        "id": "bwu--OKIV4-O"
      },
      "source": [
        "### Analysing the 'ca' feature"
      ]
    },
    {
      "cell_type": "code",
      "execution_count": null,
      "metadata": {
        "_uuid": "50db41d7e9ebe645bc7c6fcbaf26194176c274db",
        "id": "tjJcXcBmV4-O"
      },
      "outputs": [],
      "source": [
        "#number of major vessels (0-3) colored by flourosopy"
      ]
    },
    {
      "cell_type": "code",
      "execution_count": null,
      "metadata": {
        "_uuid": "a3b7ed6661d24dc399963afbca1e08d79243b431",
        "id": "i0bJxpiKV4-O"
      },
      "outputs": [],
      "source": [
        "dataset[\"ca\"].unique()"
      ]
    },
    {
      "cell_type": "code",
      "execution_count": null,
      "metadata": {
        "_uuid": "f463859906d0287c68152ebe3cadc241e569802c",
        "id": "vP1ZDefNV4-O"
      },
      "outputs": [],
      "source": [
        "sns.countplot(dataset[\"ca\"])"
      ]
    },
    {
      "cell_type": "code",
      "execution_count": null,
      "metadata": {
        "_uuid": "81483318bc63c7434eeb75515483c329abcf15e3",
        "id": "477DtXg9V4-O"
      },
      "outputs": [],
      "source": [
        "sns.barplot(dataset[\"ca\"],y)"
      ]
    },
    {
      "cell_type": "markdown",
      "metadata": {
        "_uuid": "87671e11e19372848af999bb17d061f577eb08b5",
        "id": "2lKVxlDDV4-O"
      },
      "source": [
        "##### ca=4 has astonishingly large number of heart patients"
      ]
    },
    {
      "cell_type": "code",
      "execution_count": null,
      "metadata": {
        "_uuid": "b4b057d99c7c3cdbe9e304a75b399f214f352aba",
        "id": "8Y1S5N32V4-O"
      },
      "outputs": [],
      "source": [
        "### Analysing the 'thal' feature"
      ]
    },
    {
      "cell_type": "code",
      "execution_count": null,
      "metadata": {
        "_uuid": "16eaf9a5f7433be2028369818aa54e2bf01e544e",
        "id": "2rtUXxQTV4-O"
      },
      "outputs": [],
      "source": [
        "dataset[\"thal\"].unique()"
      ]
    },
    {
      "cell_type": "code",
      "execution_count": null,
      "metadata": {
        "_uuid": "08947d9c4b05d68b2fe5ae70e33566063c44f8d4",
        "id": "7h54uOwlV4-O"
      },
      "outputs": [],
      "source": [
        "sns.barplot(dataset[\"thal\"],y)"
      ]
    },
    {
      "cell_type": "code",
      "execution_count": null,
      "metadata": {
        "_uuid": "dc84bb1643cbed20e8ac5980db59ffd54d5b581c",
        "id": "cVSztTuXV4-P"
      },
      "outputs": [],
      "source": [
        "sns.distplot(dataset[\"thal\"])"
      ]
    },
    {
      "cell_type": "markdown",
      "metadata": {
        "_uuid": "d1c95f2180e264978c85703ece34898dab4d522b",
        "id": "3H5E836VV4-P"
      },
      "source": [
        "## IV. Train Test split"
      ]
    },
    {
      "cell_type": "code",
      "execution_count": null,
      "metadata": {
        "_uuid": "829fcda5b63e1b9f7ecb7762e8ca617166533aca",
        "id": "mWAb6nRyV4-P"
      },
      "outputs": [],
      "source": [
        "from sklearn.model_selection import train_test_split\n",
        "\n",
        "predictors = dataset.drop(\"target\",axis=1)\n",
        "target = dataset[\"target\"]\n",
        "\n",
        "X_train,X_test,Y_train,Y_test = train_test_split(predictors,target,test_size=0.20,random_state=0)"
      ]
    },
    {
      "cell_type": "code",
      "execution_count": null,
      "metadata": {
        "_uuid": "7a74842015c2f193d16caa4fa25e2c4cbf1940f8",
        "id": "fjIe__iDV4-P",
        "outputId": "cd0da2ea-ed3e-41a2-9866-cf5abf7abdf7"
      },
      "outputs": [
        {
          "data": {
            "text/plain": [
              "(242, 13)"
            ]
          },
          "execution_count": 39,
          "metadata": {},
          "output_type": "execute_result"
        }
      ],
      "source": [
        "X_train.shape"
      ]
    },
    {
      "cell_type": "code",
      "execution_count": null,
      "metadata": {
        "_uuid": "1f777652df4521deb877dac4d5d635d8cd35b279",
        "id": "kHL3RCuKV4-P",
        "outputId": "48c911d5-2537-4639-d95b-9e4452c30d5f"
      },
      "outputs": [
        {
          "data": {
            "text/plain": [
              "(61, 13)"
            ]
          },
          "execution_count": 40,
          "metadata": {},
          "output_type": "execute_result"
        }
      ],
      "source": [
        "X_test.shape"
      ]
    },
    {
      "cell_type": "code",
      "execution_count": null,
      "metadata": {
        "_uuid": "028c968a076840657faf7dbc3bfee9fe7b5ca45a",
        "id": "EG0GFUf-V4-P",
        "outputId": "57eb742f-574e-456e-8a41-bb42c6a220c0"
      },
      "outputs": [
        {
          "data": {
            "text/plain": [
              "(242,)"
            ]
          },
          "execution_count": 41,
          "metadata": {},
          "output_type": "execute_result"
        }
      ],
      "source": [
        "Y_train.shape"
      ]
    },
    {
      "cell_type": "code",
      "execution_count": null,
      "metadata": {
        "_uuid": "eb6857dfc18da52dae38bec95d20106f39136e61",
        "id": "YwYoIfGzV4-P",
        "outputId": "26d7579c-1208-4402-9752-32a7ede37148"
      },
      "outputs": [
        {
          "data": {
            "text/plain": [
              "(61,)"
            ]
          },
          "execution_count": 42,
          "metadata": {},
          "output_type": "execute_result"
        }
      ],
      "source": [
        "Y_test.shape"
      ]
    },
    {
      "cell_type": "markdown",
      "metadata": {
        "_uuid": "3b4f28488a92917f26e9876c1880295ec9c077ed",
        "id": "fEggEtI9V4-P"
      },
      "source": [
        "## V. Model Fitting"
      ]
    },
    {
      "cell_type": "code",
      "execution_count": null,
      "metadata": {
        "_uuid": "fe363c1be8335a48a4444660db5fa6bd0a24b71a",
        "id": "ssVY9EAXV4-P"
      },
      "outputs": [],
      "source": [
        "from sklearn.metrics import accuracy_score"
      ]
    },
    {
      "cell_type": "markdown",
      "metadata": {
        "_uuid": "afa6b322cbc225f3353bd295aea24fe5fbbb78fe",
        "id": "PqRRos8EV4-P"
      },
      "source": [
        "### Logistic Regression"
      ]
    },
    {
      "cell_type": "code",
      "execution_count": null,
      "metadata": {
        "_uuid": "9aea2f597203ccf38cd0d67ae58bff6e163dea1c",
        "id": "97snt-p4V4-P"
      },
      "outputs": [],
      "source": [
        "from sklearn.linear_model import LogisticRegression\n",
        "\n",
        "lr = LogisticRegression()\n",
        "\n",
        "lr.fit(X_train,Y_train)\n",
        "\n",
        "Y_pred_lr = lr.predict(X_test)"
      ]
    },
    {
      "cell_type": "code",
      "execution_count": null,
      "metadata": {
        "_uuid": "58fb833d1c74355ebdafe926968632942f377421",
        "id": "iP3nPcAbV4-P",
        "outputId": "efd974e3-5a2e-4d44-ac2f-1e2b3a480b9f"
      },
      "outputs": [
        {
          "data": {
            "text/plain": [
              "(61,)"
            ]
          },
          "execution_count": 45,
          "metadata": {},
          "output_type": "execute_result"
        }
      ],
      "source": [
        "Y_pred_lr.shape"
      ]
    },
    {
      "cell_type": "code",
      "execution_count": null,
      "metadata": {
        "_uuid": "ee4cba838316adf863f8daf131d36a970d36b839",
        "id": "g1BkrRr0V4-P",
        "outputId": "c3d4c116-9c7e-422b-d078-081b4e51017c"
      },
      "outputs": [
        {
          "name": "stdout",
          "output_type": "stream",
          "text": [
            "The accuracy score achieved using Logistic Regression is: 85.25 %\n"
          ]
        }
      ],
      "source": [
        "score_lr = round(accuracy_score(Y_pred_lr,Y_test)*100,2)\n",
        "\n",
        "print(\"The accuracy score achieved using Logistic Regression is: \"+str(score_lr)+\" %\")"
      ]
    },
    {
      "cell_type": "markdown",
      "metadata": {
        "_uuid": "4f92fceb9584ae03d3ab370ee11899cb287be690",
        "id": "xqDUqulSV4-P"
      },
      "source": [
        "### Naive Bayes"
      ]
    },
    {
      "cell_type": "code",
      "execution_count": null,
      "metadata": {
        "_uuid": "ffcdab99b4108902547f0179a242a9757078dc68",
        "id": "cVhceX5DV4-Q"
      },
      "outputs": [],
      "source": [
        "from sklearn.naive_bayes import GaussianNB\n",
        "\n",
        "nb = GaussianNB()\n",
        "\n",
        "nb.fit(X_train,Y_train)\n",
        "\n",
        "Y_pred_nb = nb.predict(X_test)"
      ]
    },
    {
      "cell_type": "code",
      "execution_count": null,
      "metadata": {
        "_uuid": "9109059d06e4c92494451b3cdab0bbb5a1816072",
        "id": "P7FXSJe-V4-Q",
        "outputId": "e12a2688-d918-4bad-f4e6-57f60d18099d"
      },
      "outputs": [
        {
          "data": {
            "text/plain": [
              "(61,)"
            ]
          },
          "execution_count": 48,
          "metadata": {},
          "output_type": "execute_result"
        }
      ],
      "source": [
        "Y_pred_nb.shape"
      ]
    },
    {
      "cell_type": "code",
      "execution_count": null,
      "metadata": {
        "_uuid": "e8f8f55db061ada0b669ffa46e9ecc745fcda1ae",
        "id": "35gj_N8mV4-Q",
        "outputId": "268aff10-4ce2-429d-8d8a-f49378cf98ca"
      },
      "outputs": [
        {
          "name": "stdout",
          "output_type": "stream",
          "text": [
            "The accuracy score achieved using Naive Bayes is: 85.25 %\n"
          ]
        }
      ],
      "source": [
        "score_nb = round(accuracy_score(Y_pred_nb,Y_test)*100,2)\n",
        "\n",
        "print(\"The accuracy score achieved using Naive Bayes is: \"+str(score_nb)+\" %\")"
      ]
    },
    {
      "cell_type": "markdown",
      "metadata": {
        "_uuid": "2af8b010893284bae0d6cccf66ccfda646e7ca58",
        "id": "kXO37OdAV4-Q"
      },
      "source": [
        "### SVM"
      ]
    },
    {
      "cell_type": "code",
      "execution_count": null,
      "metadata": {
        "_uuid": "f1936ece7b76b67e552758a4c80e9421bffe0bc2",
        "id": "99yqSpaSV4-Q"
      },
      "outputs": [],
      "source": [
        "from sklearn import svm\n",
        "\n",
        "sv = svm.SVC(kernel='linear')\n",
        "\n",
        "sv.fit(X_train, Y_train)\n",
        "\n",
        "Y_pred_svm = sv.predict(X_test)"
      ]
    },
    {
      "cell_type": "code",
      "execution_count": null,
      "metadata": {
        "_uuid": "36f60f104264d44760705b9c802504f426e15592",
        "id": "q-YUOMLOV4-Q",
        "outputId": "de76f960-f216-4091-8a7f-f379f8d5ae0a"
      },
      "outputs": [
        {
          "data": {
            "text/plain": [
              "(61,)"
            ]
          },
          "execution_count": 51,
          "metadata": {},
          "output_type": "execute_result"
        }
      ],
      "source": [
        "Y_pred_svm.shape"
      ]
    },
    {
      "cell_type": "code",
      "execution_count": null,
      "metadata": {
        "_uuid": "f5a73bca6721f42b3983c328fd475390ba9bc4d3",
        "id": "JzCpiRWWV4-Q",
        "outputId": "e3126415-ca57-4234-95fc-24d4fb532906"
      },
      "outputs": [
        {
          "name": "stdout",
          "output_type": "stream",
          "text": [
            "The accuracy score achieved using Linear SVM is: 81.97 %\n"
          ]
        }
      ],
      "source": [
        "score_svm = round(accuracy_score(Y_pred_svm,Y_test)*100,2)\n",
        "\n",
        "print(\"The accuracy score achieved using Linear SVM is: \"+str(score_svm)+\" %\")"
      ]
    },
    {
      "cell_type": "markdown",
      "metadata": {
        "_uuid": "4e26d165b57f3f7882570964f1c2dc4a548404de",
        "id": "bGurUP0PV4-Q"
      },
      "source": [
        "### K Nearest Neighbors"
      ]
    },
    {
      "cell_type": "code",
      "execution_count": null,
      "metadata": {
        "_uuid": "286352867c53d5fb7dac2fc9bf4b2ac58a466ad0",
        "id": "-0w19ITGV4-Q"
      },
      "outputs": [],
      "source": [
        "from sklearn.neighbors import KNeighborsClassifier\n",
        "\n",
        "knn = KNeighborsClassifier(n_neighbors=7)\n",
        "knn.fit(X_train,Y_train)\n",
        "Y_pred_knn=knn.predict(X_test)"
      ]
    },
    {
      "cell_type": "code",
      "execution_count": null,
      "metadata": {
        "_uuid": "bccb7c1fcec36dd2eb7eb222f49604029adec2b4",
        "id": "2C5Mg-TrV4-Q",
        "outputId": "6e87051f-d181-4e13-cf57-39dee94c670d"
      },
      "outputs": [
        {
          "data": {
            "text/plain": [
              "(61,)"
            ]
          },
          "execution_count": 54,
          "metadata": {},
          "output_type": "execute_result"
        }
      ],
      "source": [
        "Y_pred_knn.shape"
      ]
    },
    {
      "cell_type": "code",
      "execution_count": null,
      "metadata": {
        "_uuid": "dda4e8f8f18f96557cdd38cee177de0456db5f45",
        "id": "lZOelTQwV4-Q",
        "outputId": "a0d943b8-a84f-4ce7-dfee-6d8204ae8a84"
      },
      "outputs": [
        {
          "name": "stdout",
          "output_type": "stream",
          "text": [
            "The accuracy score achieved using KNN is: 67.21 %\n"
          ]
        }
      ],
      "source": [
        "score_knn = round(accuracy_score(Y_pred_knn,Y_test)*100,2)\n",
        "\n",
        "print(\"The accuracy score achieved using KNN is: \"+str(score_knn)+\" %\")"
      ]
    },
    {
      "cell_type": "markdown",
      "metadata": {
        "_uuid": "abb767170c662e4d9a8b240fd0fd7286ffb0b67f",
        "id": "uwhMslOqV4-Q"
      },
      "source": [
        "### Decision Tree"
      ]
    },
    {
      "cell_type": "code",
      "execution_count": null,
      "metadata": {
        "_uuid": "8c141316764dce80103d1879c9b17d853702a746",
        "id": "8zd3opwQV4-Q"
      },
      "outputs": [],
      "source": [
        "from sklearn.tree import DecisionTreeClassifier\n",
        "\n",
        "max_accuracy = 0\n",
        "\n",
        "\n",
        "for x in range(200):\n",
        "    dt = DecisionTreeClassifier(random_state=x)\n",
        "    dt.fit(X_train,Y_train)\n",
        "    Y_pred_dt = dt.predict(X_test)\n",
        "    current_accuracy = round(accuracy_score(Y_pred_dt,Y_test)*100,2)\n",
        "    if(current_accuracy>max_accuracy):\n",
        "        max_accuracy = current_accuracy\n",
        "        best_x = x\n",
        "        \n",
        "#print(max_accuracy)\n",
        "#print(best_x)\n",
        "\n",
        "\n",
        "dt = DecisionTreeClassifier(random_state=best_x)\n",
        "dt.fit(X_train,Y_train)\n",
        "Y_pred_dt = dt.predict(X_test)"
      ]
    },
    {
      "cell_type": "code",
      "execution_count": null,
      "metadata": {
        "_uuid": "8de0bd2d57abd24d3a97a5b020a24439eb106f2b",
        "id": "sfOgMD5vV4-R",
        "outputId": "ab904422-e150-40e6-c9e5-36a8cb15ffc8"
      },
      "outputs": [
        {
          "name": "stdout",
          "output_type": "stream",
          "text": [
            "(61,)\n"
          ]
        }
      ],
      "source": [
        "print(Y_pred_dt.shape)"
      ]
    },
    {
      "cell_type": "code",
      "execution_count": null,
      "metadata": {
        "_uuid": "52ab93482d3b53824e9bc2b3e4114c57253e0c5b",
        "id": "h48Lwds9V4-R",
        "outputId": "766f49d6-0dfa-4ed1-de09-b47f00b827d6"
      },
      "outputs": [
        {
          "name": "stdout",
          "output_type": "stream",
          "text": [
            "The accuracy score achieved using Decision Tree is: 81.97 %\n"
          ]
        }
      ],
      "source": [
        "score_dt = round(accuracy_score(Y_pred_dt,Y_test)*100,2)\n",
        "\n",
        "print(\"The accuracy score achieved using Decision Tree is: \"+str(score_dt)+\" %\")"
      ]
    },
    {
      "cell_type": "markdown",
      "metadata": {
        "_uuid": "9e663d26efb00a434751f06ad0292949eff6c358",
        "id": "aAvG7sQBV4-R"
      },
      "source": [
        "### Random Forest"
      ]
    },
    {
      "cell_type": "code",
      "execution_count": null,
      "metadata": {
        "_uuid": "8284f5222cf90be1bcd37887c45f91cf22ed1193",
        "id": "iuaaQzOzV4-R"
      },
      "outputs": [],
      "source": [
        "from sklearn.ensemble import RandomForestClassifier\n",
        "\n",
        "max_accuracy = 0\n",
        "\n",
        "\n",
        "for x in range(2000):\n",
        "    rf = RandomForestClassifier(random_state=x)\n",
        "    rf.fit(X_train,Y_train)\n",
        "    Y_pred_rf = rf.predict(X_test)\n",
        "    current_accuracy = round(accuracy_score(Y_pred_rf,Y_test)*100,2)\n",
        "    if(current_accuracy>max_accuracy):\n",
        "        max_accuracy = current_accuracy\n",
        "        best_x = x\n",
        "        \n",
        "#print(max_accuracy)\n",
        "#print(best_x)\n",
        "\n",
        "rf = RandomForestClassifier(random_state=best_x)\n",
        "rf.fit(X_train,Y_train)\n",
        "Y_pred_rf = rf.predict(X_test)"
      ]
    },
    {
      "cell_type": "code",
      "execution_count": null,
      "metadata": {
        "_uuid": "edc8e1cbb57be0aa9e9ad5f4997212d53a9a4c99",
        "id": "5BlpEkO8V4-R",
        "outputId": "3ccfd369-1929-45b0-9cb5-860c8cbfaa10"
      },
      "outputs": [
        {
          "data": {
            "text/plain": [
              "(61,)"
            ]
          },
          "execution_count": 60,
          "metadata": {},
          "output_type": "execute_result"
        }
      ],
      "source": [
        "Y_pred_rf.shape"
      ]
    },
    {
      "cell_type": "code",
      "execution_count": null,
      "metadata": {
        "_uuid": "965228f30e05e07e7960a3375dc7dc85b49caed7",
        "id": "XgxQo6U3V4-R",
        "outputId": "2157d8a8-0539-45eb-9a47-2582dd7581e8"
      },
      "outputs": [
        {
          "name": "stdout",
          "output_type": "stream",
          "text": [
            "The accuracy score achieved using Decision Tree is: 95.08 %\n"
          ]
        }
      ],
      "source": [
        "score_rf = round(accuracy_score(Y_pred_rf,Y_test)*100,2)\n",
        "\n",
        "print(\"The accuracy score achieved using Decision Tree is: \"+str(score_rf)+\" %\")"
      ]
    },
    {
      "cell_type": "markdown",
      "metadata": {
        "_uuid": "6a0fc13a6c2fccd6a725a7691cfe95d74348a8ae",
        "id": "NCqFAvbkV4-R"
      },
      "source": [
        "### XGBoost"
      ]
    },
    {
      "cell_type": "code",
      "execution_count": null,
      "metadata": {
        "_uuid": "5a437f3c0e190887e2192ecb1844eaa6eb1d34a7",
        "id": "Dmf_z11RV4-R"
      },
      "outputs": [],
      "source": [
        "import xgboost as xgb\n",
        "\n",
        "xgb_model = xgb.XGBClassifier(objective=\"binary:logistic\", random_state=42)\n",
        "xgb_model.fit(X_train, Y_train)\n",
        "\n",
        "Y_pred_xgb = xgb_model.predict(X_test)"
      ]
    },
    {
      "cell_type": "code",
      "execution_count": null,
      "metadata": {
        "_uuid": "168d52cd705f2abb6763107328c984e4252c618e",
        "id": "2465K3ylV4-R",
        "outputId": "e699e418-0f41-4a8d-8e05-6fad7bfa4d38"
      },
      "outputs": [
        {
          "data": {
            "text/plain": [
              "(61,)"
            ]
          },
          "execution_count": 63,
          "metadata": {},
          "output_type": "execute_result"
        }
      ],
      "source": [
        "Y_pred_xgb.shape"
      ]
    },
    {
      "cell_type": "code",
      "execution_count": null,
      "metadata": {
        "_uuid": "319c4f0d2e62b03c95a48df0ecc33b15e7fa7f39",
        "id": "X-t2-mwGV4-R",
        "outputId": "78b713e9-dce8-41ec-bcbe-97734474fad2"
      },
      "outputs": [
        {
          "name": "stdout",
          "output_type": "stream",
          "text": [
            "The accuracy score achieved using XGBoost is: 85.25 %\n"
          ]
        }
      ],
      "source": [
        "score_xgb = round(accuracy_score(Y_pred_xgb,Y_test)*100,2)\n",
        "\n",
        "print(\"The accuracy score achieved using XGBoost is: \"+str(score_xgb)+\" %\")"
      ]
    },
    {
      "cell_type": "markdown",
      "metadata": {
        "_uuid": "e224ab23f275a3a56cdba6a9ccfddbd6a4d3b4fd",
        "id": "c2DMD6kxV4-R"
      },
      "source": [
        "### Neural Network"
      ]
    },
    {
      "cell_type": "code",
      "execution_count": null,
      "metadata": {
        "_uuid": "727b391ad6d86468a96e93dc645ade6e2da4048e",
        "id": "MoW9AVhmV4-R",
        "outputId": "aad6c9b9-2460-4a78-81b1-9545e05cd91d"
      },
      "outputs": [
        {
          "name": "stderr",
          "output_type": "stream",
          "text": [
            "Using TensorFlow backend.\n"
          ]
        }
      ],
      "source": [
        "from keras.models import Sequential\n",
        "from keras.layers import Dense"
      ]
    },
    {
      "cell_type": "code",
      "execution_count": null,
      "metadata": {
        "_uuid": "650f1baa7db466923626c707408319fa29f22d10",
        "id": "QwfXnB_OV4-R"
      },
      "outputs": [],
      "source": [
        "# https://stats.stackexchange.com/a/136542 helped a lot in avoiding overfitting\n",
        "\n",
        "model = Sequential()\n",
        "model.add(Dense(11,activation='relu',input_dim=13))\n",
        "model.add(Dense(1,activation='sigmoid'))\n",
        "\n",
        "model.compile(loss='binary_crossentropy',optimizer='adam',metrics=['accuracy'])"
      ]
    },
    {
      "cell_type": "code",
      "execution_count": null,
      "metadata": {
        "_uuid": "dde4e50b5c4c24c73b03133fc7c90bf663fd6d82",
        "id": "u6G6uWzNV4-R",
        "outputId": "188a292d-f00d-427d-9813-a75ffaa74f55"
      },
      "outputs": [
        {
          "name": "stdout",
          "output_type": "stream",
          "text": [
            "Epoch 1/300\n",
            "242/242 [==============================] - 3s 10ms/step - loss: 4.7817 - acc: 0.6074\n",
            "Epoch 2/300\n",
            "242/242 [==============================] - 0s 123us/step - loss: 2.6633 - acc: 0.6033\n",
            "Epoch 3/300\n",
            "242/242 [==============================] - 0s 124us/step - loss: 2.3371 - acc: 0.6281\n",
            "Epoch 4/300\n",
            "242/242 [==============================] - 0s 127us/step - loss: 2.2938 - acc: 0.6488\n",
            "Epoch 5/300\n",
            "242/242 [==============================] - 0s 127us/step - loss: 2.0712 - acc: 0.6860\n",
            "Epoch 6/300\n",
            "242/242 [==============================] - 0s 125us/step - loss: 2.0645 - acc: 0.6653\n",
            "Epoch 7/300\n",
            "242/242 [==============================] - 0s 124us/step - loss: 2.0023 - acc: 0.6860\n",
            "Epoch 8/300\n",
            "242/242 [==============================] - 0s 127us/step - loss: 1.9928 - acc: 0.6694\n",
            "Epoch 9/300\n",
            "242/242 [==============================] - 0s 129us/step - loss: 1.9670 - acc: 0.6694\n",
            "Epoch 10/300\n",
            "242/242 [==============================] - 0s 123us/step - loss: 1.9316 - acc: 0.6736\n",
            "Epoch 11/300\n",
            "242/242 [==============================] - 0s 123us/step - loss: 1.9223 - acc: 0.6901\n",
            "Epoch 12/300\n",
            "242/242 [==============================] - 0s 124us/step - loss: 1.8955 - acc: 0.6818\n",
            "Epoch 13/300\n",
            "242/242 [==============================] - 0s 124us/step - loss: 1.8573 - acc: 0.6901\n",
            "Epoch 14/300\n",
            "242/242 [==============================] - 0s 125us/step - loss: 1.8268 - acc: 0.6860\n",
            "Epoch 15/300\n",
            "242/242 [==============================] - 0s 122us/step - loss: 1.7915 - acc: 0.6860\n",
            "Epoch 16/300\n",
            "242/242 [==============================] - 0s 121us/step - loss: 1.7727 - acc: 0.6777\n",
            "Epoch 17/300\n",
            "242/242 [==============================] - 0s 122us/step - loss: 1.7275 - acc: 0.6860\n",
            "Epoch 18/300\n",
            "242/242 [==============================] - 0s 122us/step - loss: 1.7143 - acc: 0.7066\n",
            "Epoch 19/300\n",
            "242/242 [==============================] - 0s 124us/step - loss: 1.6761 - acc: 0.6860\n",
            "Epoch 20/300\n",
            "242/242 [==============================] - 0s 136us/step - loss: 1.6591 - acc: 0.6777\n",
            "Epoch 21/300\n",
            "242/242 [==============================] - 0s 128us/step - loss: 1.6486 - acc: 0.7107\n",
            "Epoch 22/300\n",
            "242/242 [==============================] - 0s 130us/step - loss: 1.6004 - acc: 0.6860\n",
            "Epoch 23/300\n",
            "242/242 [==============================] - 0s 125us/step - loss: 1.5765 - acc: 0.7107\n",
            "Epoch 24/300\n",
            "242/242 [==============================] - 0s 128us/step - loss: 1.5428 - acc: 0.7025\n",
            "Epoch 25/300\n",
            "242/242 [==============================] - 0s 125us/step - loss: 1.5179 - acc: 0.6901\n",
            "Epoch 26/300\n",
            "242/242 [==============================] - 0s 124us/step - loss: 1.5084 - acc: 0.7066\n",
            "Epoch 27/300\n",
            "242/242 [==============================] - 0s 124us/step - loss: 1.4619 - acc: 0.6942\n",
            "Epoch 28/300\n",
            "242/242 [==============================] - 0s 126us/step - loss: 1.4600 - acc: 0.6818\n",
            "Epoch 29/300\n",
            "242/242 [==============================] - 0s 123us/step - loss: 1.4072 - acc: 0.6942\n",
            "Epoch 30/300\n",
            "242/242 [==============================] - 0s 122us/step - loss: 1.4329 - acc: 0.6942\n",
            "Epoch 31/300\n",
            "242/242 [==============================] - 0s 123us/step - loss: 1.3622 - acc: 0.7066\n",
            "Epoch 32/300\n",
            "242/242 [==============================] - 0s 130us/step - loss: 1.3532 - acc: 0.7025\n",
            "Epoch 33/300\n",
            "242/242 [==============================] - 0s 127us/step - loss: 1.3160 - acc: 0.7066\n",
            "Epoch 34/300\n",
            "242/242 [==============================] - 0s 128us/step - loss: 1.3004 - acc: 0.7025\n",
            "Epoch 35/300\n",
            "242/242 [==============================] - 0s 123us/step - loss: 1.2741 - acc: 0.7025\n",
            "Epoch 36/300\n",
            "242/242 [==============================] - 0s 128us/step - loss: 1.2875 - acc: 0.7107\n",
            "Epoch 37/300\n",
            "242/242 [==============================] - 0s 124us/step - loss: 1.2634 - acc: 0.6983\n",
            "Epoch 38/300\n",
            "242/242 [==============================] - 0s 127us/step - loss: 1.2101 - acc: 0.6983\n",
            "Epoch 39/300\n",
            "242/242 [==============================] - 0s 123us/step - loss: 1.1919 - acc: 0.7025\n",
            "Epoch 40/300\n",
            "242/242 [==============================] - 0s 130us/step - loss: 1.2064 - acc: 0.6942\n",
            "Epoch 41/300\n",
            "242/242 [==============================] - 0s 123us/step - loss: 1.2389 - acc: 0.6818\n",
            "Epoch 42/300\n",
            "242/242 [==============================] - 0s 124us/step - loss: 1.1472 - acc: 0.7066\n",
            "Epoch 43/300\n",
            "242/242 [==============================] - 0s 125us/step - loss: 1.1238 - acc: 0.6942\n",
            "Epoch 44/300\n",
            "242/242 [==============================] - 0s 125us/step - loss: 1.1178 - acc: 0.7025\n",
            "Epoch 45/300\n",
            "242/242 [==============================] - 0s 126us/step - loss: 1.0960 - acc: 0.6983\n",
            "Epoch 46/300\n",
            "242/242 [==============================] - 0s 120us/step - loss: 1.0781 - acc: 0.7025\n",
            "Epoch 47/300\n",
            "242/242 [==============================] - 0s 123us/step - loss: 1.0553 - acc: 0.7025\n",
            "Epoch 48/300\n",
            "242/242 [==============================] - 0s 122us/step - loss: 1.0342 - acc: 0.7149\n",
            "Epoch 49/300\n",
            "242/242 [==============================] - 0s 123us/step - loss: 1.0223 - acc: 0.7066\n",
            "Epoch 50/300\n",
            "242/242 [==============================] - 0s 134us/step - loss: 1.0213 - acc: 0.7107\n",
            "Epoch 51/300\n",
            "242/242 [==============================] - 0s 128us/step - loss: 0.9977 - acc: 0.7231\n",
            "Epoch 52/300\n",
            "242/242 [==============================] - 0s 137us/step - loss: 0.9841 - acc: 0.7190\n",
            "Epoch 53/300\n",
            "242/242 [==============================] - 0s 127us/step - loss: 0.9594 - acc: 0.7149\n",
            "Epoch 54/300\n",
            "242/242 [==============================] - 0s 124us/step - loss: 0.9688 - acc: 0.7231\n",
            "Epoch 55/300\n",
            "242/242 [==============================] - 0s 127us/step - loss: 0.9942 - acc: 0.6901\n",
            "Epoch 56/300\n",
            "242/242 [==============================] - 0s 125us/step - loss: 0.9391 - acc: 0.7149\n",
            "Epoch 57/300\n",
            "242/242 [==============================] - 0s 130us/step - loss: 0.9229 - acc: 0.6942\n",
            "Epoch 58/300\n",
            "242/242 [==============================] - 0s 132us/step - loss: 0.8981 - acc: 0.7190\n",
            "Epoch 59/300\n",
            "242/242 [==============================] - 0s 134us/step - loss: 0.8885 - acc: 0.7190\n",
            "Epoch 60/300\n",
            "242/242 [==============================] - 0s 129us/step - loss: 0.8854 - acc: 0.7149\n",
            "Epoch 61/300\n",
            "242/242 [==============================] - 0s 123us/step - loss: 0.8573 - acc: 0.7066\n",
            "Epoch 62/300\n",
            "242/242 [==============================] - 0s 124us/step - loss: 0.8476 - acc: 0.7273\n",
            "Epoch 63/300\n",
            "242/242 [==============================] - 0s 123us/step - loss: 0.8410 - acc: 0.7149\n",
            "Epoch 64/300\n",
            "242/242 [==============================] - 0s 119us/step - loss: 0.8287 - acc: 0.7355\n",
            "Epoch 65/300\n",
            "242/242 [==============================] - 0s 129us/step - loss: 0.8199 - acc: 0.7397\n",
            "Epoch 66/300\n",
            "242/242 [==============================] - 0s 132us/step - loss: 0.8091 - acc: 0.7355\n",
            "Epoch 67/300\n",
            "242/242 [==============================] - 0s 121us/step - loss: 0.7976 - acc: 0.7107\n",
            "Epoch 68/300\n",
            "242/242 [==============================] - 0s 125us/step - loss: 0.7912 - acc: 0.7231\n",
            "Epoch 69/300\n",
            "242/242 [==============================] - 0s 132us/step - loss: 0.7775 - acc: 0.7479\n",
            "Epoch 70/300\n",
            "242/242 [==============================] - 0s 121us/step - loss: 0.7608 - acc: 0.7355\n",
            "Epoch 71/300\n",
            "242/242 [==============================] - 0s 125us/step - loss: 0.7553 - acc: 0.7231\n",
            "Epoch 72/300\n",
            "242/242 [==============================] - 0s 127us/step - loss: 0.7470 - acc: 0.7397\n",
            "Epoch 73/300\n",
            "242/242 [==============================] - 0s 129us/step - loss: 0.7429 - acc: 0.7521\n",
            "Epoch 74/300\n",
            "242/242 [==============================] - 0s 122us/step - loss: 0.7543 - acc: 0.7190\n",
            "Epoch 75/300\n",
            "242/242 [==============================] - 0s 120us/step - loss: 0.7206 - acc: 0.7438\n",
            "Epoch 76/300\n",
            "242/242 [==============================] - 0s 127us/step - loss: 0.7220 - acc: 0.7479\n",
            "Epoch 77/300\n",
            "242/242 [==============================] - 0s 125us/step - loss: 0.7237 - acc: 0.7066\n",
            "Epoch 78/300\n",
            "242/242 [==============================] - 0s 124us/step - loss: 0.7065 - acc: 0.7273\n",
            "Epoch 79/300\n",
            "242/242 [==============================] - 0s 127us/step - loss: 0.6893 - acc: 0.7314\n",
            "Epoch 80/300\n",
            "242/242 [==============================] - 0s 123us/step - loss: 0.6972 - acc: 0.7397\n",
            "Epoch 81/300\n",
            "242/242 [==============================] - 0s 122us/step - loss: 0.6626 - acc: 0.7273\n",
            "Epoch 82/300\n",
            "242/242 [==============================] - 0s 125us/step - loss: 0.6600 - acc: 0.7521\n",
            "Epoch 83/300\n",
            "242/242 [==============================] - 0s 122us/step - loss: 0.6686 - acc: 0.7231\n",
            "Epoch 84/300\n",
            "242/242 [==============================] - 0s 136us/step - loss: 0.6550 - acc: 0.7397\n",
            "Epoch 85/300\n",
            "242/242 [==============================] - 0s 137us/step - loss: 0.6363 - acc: 0.7397\n",
            "Epoch 86/300\n",
            "242/242 [==============================] - 0s 126us/step - loss: 0.6298 - acc: 0.7438\n",
            "Epoch 87/300\n",
            "242/242 [==============================] - 0s 130us/step - loss: 0.6332 - acc: 0.7562\n",
            "Epoch 88/300\n",
            "242/242 [==============================] - 0s 127us/step - loss: 0.6204 - acc: 0.7521\n",
            "Epoch 89/300\n",
            "242/242 [==============================] - 0s 128us/step - loss: 0.6155 - acc: 0.7438\n",
            "Epoch 90/300\n",
            "242/242 [==============================] - 0s 137us/step - loss: 0.6085 - acc: 0.7603\n",
            "Epoch 91/300\n",
            "242/242 [==============================] - 0s 132us/step - loss: 0.6035 - acc: 0.7273\n",
            "Epoch 92/300\n",
            "242/242 [==============================] - 0s 133us/step - loss: 0.5924 - acc: 0.7562\n",
            "Epoch 93/300\n",
            "242/242 [==============================] - 0s 124us/step - loss: 0.6020 - acc: 0.7562\n",
            "Epoch 94/300\n",
            "242/242 [==============================] - 0s 124us/step - loss: 0.5888 - acc: 0.7603\n",
            "Epoch 95/300\n",
            "242/242 [==============================] - 0s 125us/step - loss: 0.5771 - acc: 0.7355\n",
            "Epoch 96/300\n",
            "242/242 [==============================] - 0s 125us/step - loss: 0.5699 - acc: 0.7603\n",
            "Epoch 97/300\n",
            "242/242 [==============================] - 0s 123us/step - loss: 0.5732 - acc: 0.7521\n",
            "Epoch 98/300\n",
            "242/242 [==============================] - 0s 126us/step - loss: 0.5631 - acc: 0.7603\n",
            "Epoch 99/300\n",
            "242/242 [==============================] - 0s 129us/step - loss: 0.5576 - acc: 0.7645\n",
            "Epoch 100/300\n",
            "242/242 [==============================] - 0s 123us/step - loss: 0.5528 - acc: 0.7645\n",
            "Epoch 101/300\n",
            "242/242 [==============================] - 0s 128us/step - loss: 0.5459 - acc: 0.7521\n",
            "Epoch 102/300\n",
            "242/242 [==============================] - 0s 124us/step - loss: 0.5379 - acc: 0.7645\n",
            "Epoch 103/300\n",
            "242/242 [==============================] - 0s 127us/step - loss: 0.5654 - acc: 0.7810\n",
            "Epoch 104/300\n",
            "242/242 [==============================] - 0s 126us/step - loss: 0.5296 - acc: 0.7562\n",
            "Epoch 105/300\n",
            "242/242 [==============================] - 0s 127us/step - loss: 0.5355 - acc: 0.7769\n",
            "Epoch 106/300\n",
            "242/242 [==============================] - 0s 128us/step - loss: 0.5250 - acc: 0.7686\n",
            "Epoch 107/300\n",
            "242/242 [==============================] - 0s 127us/step - loss: 0.5180 - acc: 0.7769\n",
            "Epoch 108/300\n",
            "242/242 [==============================] - 0s 125us/step - loss: 0.5170 - acc: 0.7562\n",
            "Epoch 109/300\n",
            "242/242 [==============================] - 0s 126us/step - loss: 0.5071 - acc: 0.7810\n",
            "Epoch 110/300\n",
            "242/242 [==============================] - 0s 126us/step - loss: 0.5054 - acc: 0.7810\n",
            "Epoch 111/300\n",
            "242/242 [==============================] - 0s 130us/step - loss: 0.5196 - acc: 0.7769\n",
            "Epoch 112/300\n",
            "242/242 [==============================] - 0s 124us/step - loss: 0.5005 - acc: 0.7769\n",
            "Epoch 113/300\n",
            "242/242 [==============================] - 0s 124us/step - loss: 0.5047 - acc: 0.7727\n",
            "Epoch 114/300\n",
            "242/242 [==============================] - 0s 124us/step - loss: 0.4910 - acc: 0.7769\n",
            "Epoch 115/300\n",
            "242/242 [==============================] - 0s 121us/step - loss: 0.4900 - acc: 0.7769\n",
            "Epoch 116/300\n",
            "242/242 [==============================] - 0s 138us/step - loss: 0.5211 - acc: 0.7686\n",
            "Epoch 117/300\n",
            "242/242 [==============================] - 0s 127us/step - loss: 0.4756 - acc: 0.7893\n",
            "Epoch 118/300\n",
            "242/242 [==============================] - 0s 132us/step - loss: 0.4844 - acc: 0.7769\n",
            "Epoch 119/300\n",
            "242/242 [==============================] - 0s 124us/step - loss: 0.4720 - acc: 0.7934\n",
            "Epoch 120/300\n",
            "242/242 [==============================] - 0s 128us/step - loss: 0.4720 - acc: 0.7893\n",
            "Epoch 121/300\n",
            "242/242 [==============================] - 0s 127us/step - loss: 0.4669 - acc: 0.7893\n",
            "Epoch 122/300\n",
            "242/242 [==============================] - 0s 130us/step - loss: 0.4736 - acc: 0.7851\n",
            "Epoch 123/300\n",
            "242/242 [==============================] - 0s 130us/step - loss: 0.4580 - acc: 0.7975\n",
            "Epoch 124/300\n",
            "242/242 [==============================] - 0s 140us/step - loss: 0.4592 - acc: 0.7851\n",
            "Epoch 125/300\n",
            "242/242 [==============================] - 0s 124us/step - loss: 0.4571 - acc: 0.8017\n",
            "Epoch 126/300\n",
            "242/242 [==============================] - 0s 132us/step - loss: 0.4596 - acc: 0.7727\n",
            "Epoch 127/300\n",
            "242/242 [==============================] - 0s 130us/step - loss: 0.4581 - acc: 0.7893\n",
            "Epoch 128/300\n",
            "242/242 [==============================] - 0s 128us/step - loss: 0.4543 - acc: 0.7934\n",
            "Epoch 129/300\n",
            "242/242 [==============================] - 0s 130us/step - loss: 0.4893 - acc: 0.7727\n",
            "Epoch 130/300\n",
            "242/242 [==============================] - 0s 123us/step - loss: 0.4437 - acc: 0.8058\n",
            "Epoch 131/300\n",
            "242/242 [==============================] - 0s 125us/step - loss: 0.4630 - acc: 0.7975\n",
            "Epoch 132/300\n",
            "242/242 [==============================] - 0s 124us/step - loss: 0.4564 - acc: 0.7851\n",
            "Epoch 133/300\n",
            "242/242 [==============================] - 0s 125us/step - loss: 0.4346 - acc: 0.7975\n",
            "Epoch 134/300\n",
            "242/242 [==============================] - 0s 127us/step - loss: 0.4375 - acc: 0.7975\n",
            "Epoch 135/300\n",
            "242/242 [==============================] - 0s 125us/step - loss: 0.4382 - acc: 0.7975\n",
            "Epoch 136/300\n",
            "242/242 [==============================] - 0s 126us/step - loss: 0.4308 - acc: 0.8017\n",
            "Epoch 137/300\n",
            "242/242 [==============================] - 0s 123us/step - loss: 0.4332 - acc: 0.8017\n",
            "Epoch 138/300\n",
            "242/242 [==============================] - 0s 126us/step - loss: 0.4275 - acc: 0.8017\n",
            "Epoch 139/300\n",
            "242/242 [==============================] - 0s 126us/step - loss: 0.4311 - acc: 0.7975\n",
            "Epoch 140/300\n",
            "242/242 [==============================] - 0s 124us/step - loss: 0.4346 - acc: 0.8099\n",
            "Epoch 141/300\n",
            "242/242 [==============================] - 0s 126us/step - loss: 0.4289 - acc: 0.8223\n",
            "Epoch 142/300\n",
            "242/242 [==============================] - 0s 126us/step - loss: 0.4213 - acc: 0.8099\n",
            "Epoch 143/300\n",
            "242/242 [==============================] - 0s 126us/step - loss: 0.4319 - acc: 0.8058\n",
            "Epoch 144/300\n",
            "242/242 [==============================] - 0s 126us/step - loss: 0.4252 - acc: 0.8017\n",
            "Epoch 145/300\n",
            "242/242 [==============================] - 0s 127us/step - loss: 0.4389 - acc: 0.8182\n",
            "Epoch 146/300\n",
            "242/242 [==============================] - 0s 125us/step - loss: 0.4292 - acc: 0.8017\n",
            "Epoch 147/300\n",
            "242/242 [==============================] - 0s 138us/step - loss: 0.4251 - acc: 0.8058\n",
            "Epoch 148/300\n",
            "242/242 [==============================] - 0s 131us/step - loss: 0.4114 - acc: 0.8099\n",
            "Epoch 149/300\n",
            "242/242 [==============================] - 0s 136us/step - loss: 0.4233 - acc: 0.7975\n",
            "Epoch 150/300\n",
            "242/242 [==============================] - 0s 132us/step - loss: 0.4072 - acc: 0.8182\n",
            "Epoch 151/300\n",
            "242/242 [==============================] - 0s 131us/step - loss: 0.4449 - acc: 0.7851\n",
            "Epoch 152/300\n",
            "242/242 [==============================] - 0s 131us/step - loss: 0.4335 - acc: 0.7934\n",
            "Epoch 153/300\n",
            "242/242 [==============================] - 0s 134us/step - loss: 0.4077 - acc: 0.8182\n",
            "Epoch 154/300\n",
            "242/242 [==============================] - 0s 154us/step - loss: 0.4137 - acc: 0.8099\n",
            "Epoch 155/300\n",
            "242/242 [==============================] - 0s 139us/step - loss: 0.4079 - acc: 0.8182\n",
            "Epoch 156/300\n",
            "242/242 [==============================] - 0s 135us/step - loss: 0.4054 - acc: 0.8140\n",
            "Epoch 157/300\n",
            "242/242 [==============================] - 0s 131us/step - loss: 0.4072 - acc: 0.8223\n",
            "Epoch 158/300\n",
            "242/242 [==============================] - 0s 129us/step - loss: 0.4062 - acc: 0.8182\n",
            "Epoch 159/300\n",
            "242/242 [==============================] - 0s 134us/step - loss: 0.4031 - acc: 0.8306\n",
            "Epoch 160/300\n",
            "242/242 [==============================] - 0s 140us/step - loss: 0.4019 - acc: 0.8058\n",
            "Epoch 161/300\n",
            "242/242 [==============================] - 0s 130us/step - loss: 0.4005 - acc: 0.8223\n",
            "Epoch 162/300\n",
            "242/242 [==============================] - 0s 131us/step - loss: 0.4108 - acc: 0.8140\n",
            "Epoch 163/300\n",
            "242/242 [==============================] - 0s 136us/step - loss: 0.3946 - acc: 0.8264\n",
            "Epoch 164/300\n",
            "242/242 [==============================] - 0s 131us/step - loss: 0.3961 - acc: 0.8058\n",
            "Epoch 165/300\n",
            "242/242 [==============================] - 0s 143us/step - loss: 0.4076 - acc: 0.8223\n",
            "Epoch 166/300\n",
            "242/242 [==============================] - 0s 123us/step - loss: 0.4033 - acc: 0.8182\n",
            "Epoch 167/300\n",
            "242/242 [==============================] - 0s 128us/step - loss: 0.4171 - acc: 0.8140\n",
            "Epoch 168/300\n",
            "242/242 [==============================] - 0s 129us/step - loss: 0.3988 - acc: 0.8388\n",
            "Epoch 169/300\n",
            "242/242 [==============================] - 0s 125us/step - loss: 0.3987 - acc: 0.8182\n",
            "Epoch 170/300\n",
            "242/242 [==============================] - 0s 127us/step - loss: 0.4012 - acc: 0.8182\n",
            "Epoch 171/300\n",
            "242/242 [==============================] - 0s 137us/step - loss: 0.3952 - acc: 0.8140\n",
            "Epoch 172/300\n",
            "242/242 [==============================] - 0s 134us/step - loss: 0.4002 - acc: 0.8430\n",
            "Epoch 173/300\n",
            "242/242 [==============================] - 0s 125us/step - loss: 0.3978 - acc: 0.8099\n",
            "Epoch 174/300\n",
            "242/242 [==============================] - 0s 139us/step - loss: 0.4227 - acc: 0.8264\n",
            "Epoch 175/300\n",
            "242/242 [==============================] - 0s 126us/step - loss: 0.4119 - acc: 0.8347\n",
            "Epoch 176/300\n",
            "242/242 [==============================] - 0s 125us/step - loss: 0.4099 - acc: 0.8017\n",
            "Epoch 177/300\n",
            "242/242 [==============================] - 0s 132us/step - loss: 0.3934 - acc: 0.8388\n",
            "Epoch 178/300\n",
            "242/242 [==============================] - 0s 131us/step - loss: 0.3995 - acc: 0.8099\n",
            "Epoch 179/300\n",
            "242/242 [==============================] - 0s 134us/step - loss: 0.3905 - acc: 0.8264\n",
            "Epoch 180/300\n",
            "242/242 [==============================] - 0s 131us/step - loss: 0.3884 - acc: 0.8182\n",
            "Epoch 181/300\n",
            "242/242 [==============================] - 0s 135us/step - loss: 0.3856 - acc: 0.8471\n",
            "Epoch 182/300\n",
            "242/242 [==============================] - 0s 142us/step - loss: 0.3851 - acc: 0.8140\n",
            "Epoch 183/300\n",
            "242/242 [==============================] - 0s 156us/step - loss: 0.3884 - acc: 0.8430\n",
            "Epoch 184/300\n",
            "242/242 [==============================] - 0s 133us/step - loss: 0.3905 - acc: 0.8223\n",
            "Epoch 185/300\n",
            "242/242 [==============================] - 0s 141us/step - loss: 0.4023 - acc: 0.8140\n",
            "Epoch 186/300\n",
            "242/242 [==============================] - 0s 139us/step - loss: 0.3969 - acc: 0.8347\n",
            "Epoch 187/300\n",
            "242/242 [==============================] - 0s 128us/step - loss: 0.3801 - acc: 0.8264\n",
            "Epoch 188/300\n",
            "242/242 [==============================] - 0s 131us/step - loss: 0.4085 - acc: 0.7975\n",
            "Epoch 189/300\n",
            "242/242 [==============================] - 0s 135us/step - loss: 0.4002 - acc: 0.8099\n",
            "Epoch 190/300\n",
            "242/242 [==============================] - 0s 122us/step - loss: 0.3857 - acc: 0.8223\n",
            "Epoch 191/300\n",
            "242/242 [==============================] - 0s 131us/step - loss: 0.3961 - acc: 0.8471\n",
            "Epoch 192/300\n",
            "242/242 [==============================] - 0s 127us/step - loss: 0.3903 - acc: 0.8140\n",
            "Epoch 193/300\n",
            "242/242 [==============================] - 0s 126us/step - loss: 0.3921 - acc: 0.8306\n",
            "Epoch 194/300\n",
            "242/242 [==============================] - 0s 124us/step - loss: 0.4042 - acc: 0.8017\n",
            "Epoch 195/300\n",
            "242/242 [==============================] - 0s 125us/step - loss: 0.4186 - acc: 0.7934\n",
            "Epoch 196/300\n",
            "242/242 [==============================] - 0s 124us/step - loss: 0.3855 - acc: 0.8264\n",
            "Epoch 197/300\n",
            "242/242 [==============================] - 0s 129us/step - loss: 0.3961 - acc: 0.8140\n",
            "Epoch 198/300\n",
            "242/242 [==============================] - 0s 130us/step - loss: 0.3932 - acc: 0.8099\n",
            "Epoch 199/300\n",
            "242/242 [==============================] - 0s 129us/step - loss: 0.3860 - acc: 0.8264\n",
            "Epoch 200/300\n",
            "242/242 [==============================] - 0s 133us/step - loss: 0.3876 - acc: 0.8388\n",
            "Epoch 201/300\n",
            "242/242 [==============================] - 0s 126us/step - loss: 0.3915 - acc: 0.8347\n",
            "Epoch 202/300\n",
            "242/242 [==============================] - 0s 125us/step - loss: 0.4143 - acc: 0.8182\n",
            "Epoch 203/300\n",
            "242/242 [==============================] - 0s 122us/step - loss: 0.3690 - acc: 0.8223\n",
            "Epoch 204/300\n",
            "242/242 [==============================] - 0s 130us/step - loss: 0.3847 - acc: 0.8347\n",
            "Epoch 205/300\n",
            "242/242 [==============================] - 0s 126us/step - loss: 0.3764 - acc: 0.8306\n",
            "Epoch 206/300\n",
            "242/242 [==============================] - 0s 127us/step - loss: 0.3731 - acc: 0.8347\n",
            "Epoch 207/300\n",
            "242/242 [==============================] - 0s 126us/step - loss: 0.3760 - acc: 0.8430\n",
            "Epoch 208/300\n",
            "242/242 [==============================] - 0s 137us/step - loss: 0.3779 - acc: 0.8388\n",
            "Epoch 209/300\n",
            "242/242 [==============================] - 0s 128us/step - loss: 0.3776 - acc: 0.8223\n",
            "Epoch 210/300\n",
            "242/242 [==============================] - 0s 123us/step - loss: 0.3848 - acc: 0.8430\n",
            "Epoch 211/300\n",
            "242/242 [==============================] - 0s 124us/step - loss: 0.3753 - acc: 0.8471\n",
            "Epoch 212/300\n",
            "242/242 [==============================] - 0s 123us/step - loss: 0.3796 - acc: 0.8388\n",
            "Epoch 213/300\n",
            "242/242 [==============================] - 0s 130us/step - loss: 0.3736 - acc: 0.8347\n",
            "Epoch 214/300\n",
            "242/242 [==============================] - 0s 125us/step - loss: 0.3741 - acc: 0.8306\n",
            "Epoch 215/300\n",
            "242/242 [==============================] - 0s 125us/step - loss: 0.3748 - acc: 0.8306\n",
            "Epoch 216/300\n",
            "242/242 [==============================] - 0s 132us/step - loss: 0.3738 - acc: 0.8347\n",
            "Epoch 217/300\n",
            "242/242 [==============================] - 0s 122us/step - loss: 0.3754 - acc: 0.8471\n",
            "Epoch 218/300\n",
            "242/242 [==============================] - 0s 122us/step - loss: 0.3826 - acc: 0.8388\n",
            "Epoch 219/300\n",
            "242/242 [==============================] - 0s 127us/step - loss: 0.3900 - acc: 0.8264\n",
            "Epoch 220/300\n",
            "242/242 [==============================] - 0s 122us/step - loss: 0.3745 - acc: 0.8430\n",
            "Epoch 221/300\n",
            "242/242 [==============================] - 0s 129us/step - loss: 0.3828 - acc: 0.8264\n",
            "Epoch 222/300\n",
            "242/242 [==============================] - 0s 124us/step - loss: 0.3902 - acc: 0.8306\n",
            "Epoch 223/300\n",
            "242/242 [==============================] - 0s 123us/step - loss: 0.3700 - acc: 0.8512\n",
            "Epoch 224/300\n",
            "242/242 [==============================] - 0s 126us/step - loss: 0.3746 - acc: 0.8388\n",
            "Epoch 225/300\n",
            "242/242 [==============================] - 0s 126us/step - loss: 0.3863 - acc: 0.8430\n",
            "Epoch 226/300\n",
            "242/242 [==============================] - 0s 124us/step - loss: 0.3698 - acc: 0.8347\n",
            "Epoch 227/300\n",
            "242/242 [==============================] - 0s 131us/step - loss: 0.3811 - acc: 0.8388\n",
            "Epoch 228/300\n",
            "242/242 [==============================] - 0s 127us/step - loss: 0.3801 - acc: 0.8306\n",
            "Epoch 229/300\n",
            "242/242 [==============================] - 0s 125us/step - loss: 0.3742 - acc: 0.8347\n",
            "Epoch 230/300\n",
            "242/242 [==============================] - 0s 124us/step - loss: 0.3743 - acc: 0.8430\n",
            "Epoch 231/300\n",
            "242/242 [==============================] - 0s 125us/step - loss: 0.3958 - acc: 0.8264\n",
            "Epoch 232/300\n",
            "242/242 [==============================] - 0s 130us/step - loss: 0.3665 - acc: 0.8347\n",
            "Epoch 233/300\n",
            "242/242 [==============================] - 0s 143us/step - loss: 0.3952 - acc: 0.8347\n",
            "Epoch 234/300\n",
            "242/242 [==============================] - 0s 126us/step - loss: 0.3763 - acc: 0.8264\n",
            "Epoch 235/300\n",
            "242/242 [==============================] - 0s 125us/step - loss: 0.3685 - acc: 0.8512\n",
            "Epoch 236/300\n",
            "242/242 [==============================] - 0s 126us/step - loss: 0.3707 - acc: 0.8347\n",
            "Epoch 237/300\n",
            "242/242 [==============================] - 0s 125us/step - loss: 0.4014 - acc: 0.8017\n",
            "Epoch 238/300\n",
            "242/242 [==============================] - 0s 125us/step - loss: 0.4119 - acc: 0.8223\n",
            "Epoch 239/300\n",
            "242/242 [==============================] - 0s 126us/step - loss: 0.3824 - acc: 0.8388\n",
            "Epoch 240/300\n",
            "242/242 [==============================] - 0s 152us/step - loss: 0.3735 - acc: 0.8388\n",
            "Epoch 241/300\n",
            "242/242 [==============================] - 0s 128us/step - loss: 0.3757 - acc: 0.8347\n",
            "Epoch 242/300\n",
            "242/242 [==============================] - 0s 131us/step - loss: 0.3697 - acc: 0.8471\n",
            "Epoch 243/300\n",
            "242/242 [==============================] - 0s 129us/step - loss: 0.3718 - acc: 0.8223\n",
            "Epoch 244/300\n",
            "242/242 [==============================] - 0s 125us/step - loss: 0.3763 - acc: 0.8306\n",
            "Epoch 245/300\n",
            "242/242 [==============================] - 0s 127us/step - loss: 0.3705 - acc: 0.8306\n",
            "Epoch 246/300\n",
            "242/242 [==============================] - 0s 129us/step - loss: 0.3737 - acc: 0.8347\n",
            "Epoch 247/300\n",
            "242/242 [==============================] - 0s 125us/step - loss: 0.3676 - acc: 0.8388\n",
            "Epoch 248/300\n",
            "242/242 [==============================] - 0s 124us/step - loss: 0.3702 - acc: 0.8471\n",
            "Epoch 249/300\n",
            "242/242 [==============================] - 0s 126us/step - loss: 0.3711 - acc: 0.8471\n",
            "Epoch 250/300\n",
            "242/242 [==============================] - 0s 125us/step - loss: 0.3762 - acc: 0.8471\n",
            "Epoch 251/300\n",
            "242/242 [==============================] - 0s 125us/step - loss: 0.3684 - acc: 0.8471\n",
            "Epoch 252/300\n",
            "242/242 [==============================] - 0s 133us/step - loss: 0.3945 - acc: 0.8182\n",
            "Epoch 253/300\n",
            "242/242 [==============================] - 0s 128us/step - loss: 0.3693 - acc: 0.8430\n",
            "Epoch 254/300\n",
            "242/242 [==============================] - 0s 125us/step - loss: 0.3672 - acc: 0.8388\n",
            "Epoch 255/300\n",
            "242/242 [==============================] - 0s 129us/step - loss: 0.3718 - acc: 0.8512\n",
            "Epoch 256/300\n",
            "242/242 [==============================] - 0s 124us/step - loss: 0.3768 - acc: 0.8347\n",
            "Epoch 257/300\n",
            "242/242 [==============================] - 0s 127us/step - loss: 0.3852 - acc: 0.8388\n",
            "Epoch 258/300\n",
            "242/242 [==============================] - 0s 124us/step - loss: 0.3752 - acc: 0.8471\n",
            "Epoch 259/300\n",
            "242/242 [==============================] - 0s 122us/step - loss: 0.3693 - acc: 0.8347\n",
            "Epoch 260/300\n",
            "242/242 [==============================] - 0s 124us/step - loss: 0.3683 - acc: 0.8388\n",
            "Epoch 261/300\n",
            "242/242 [==============================] - 0s 123us/step - loss: 0.3690 - acc: 0.8430\n",
            "Epoch 262/300\n",
            "242/242 [==============================] - 0s 125us/step - loss: 0.3652 - acc: 0.8388\n",
            "Epoch 263/300\n",
            "242/242 [==============================] - 0s 126us/step - loss: 0.3677 - acc: 0.8347\n",
            "Epoch 264/300\n",
            "242/242 [==============================] - 0s 125us/step - loss: 0.3677 - acc: 0.8347\n",
            "Epoch 265/300\n",
            "242/242 [==============================] - 0s 125us/step - loss: 0.3814 - acc: 0.8430\n",
            "Epoch 266/300\n",
            "242/242 [==============================] - 0s 122us/step - loss: 0.3878 - acc: 0.8347\n",
            "Epoch 267/300\n",
            "242/242 [==============================] - 0s 122us/step - loss: 0.3708 - acc: 0.8347\n",
            "Epoch 268/300\n",
            "242/242 [==============================] - 0s 130us/step - loss: 0.3663 - acc: 0.8306\n",
            "Epoch 269/300\n",
            "242/242 [==============================] - 0s 125us/step - loss: 0.3741 - acc: 0.8264\n",
            "Epoch 270/300\n",
            "242/242 [==============================] - 0s 124us/step - loss: 0.3709 - acc: 0.8347\n",
            "Epoch 271/300\n",
            "242/242 [==============================] - 0s 124us/step - loss: 0.3628 - acc: 0.8430\n",
            "Epoch 272/300\n",
            "242/242 [==============================] - 0s 139us/step - loss: 0.3671 - acc: 0.8471\n",
            "Epoch 273/300\n",
            "242/242 [==============================] - 0s 129us/step - loss: 0.3640 - acc: 0.8430\n",
            "Epoch 274/300\n",
            "242/242 [==============================] - 0s 122us/step - loss: 0.3669 - acc: 0.8306\n",
            "Epoch 275/300\n",
            "242/242 [==============================] - 0s 127us/step - loss: 0.3725 - acc: 0.8306\n",
            "Epoch 276/300\n",
            "242/242 [==============================] - 0s 131us/step - loss: 0.3747 - acc: 0.8388\n",
            "Epoch 277/300\n",
            "242/242 [==============================] - 0s 127us/step - loss: 0.3638 - acc: 0.8430\n",
            "Epoch 278/300\n",
            "242/242 [==============================] - 0s 130us/step - loss: 0.4032 - acc: 0.8306\n",
            "Epoch 279/300\n",
            "242/242 [==============================] - 0s 127us/step - loss: 0.3787 - acc: 0.8388\n",
            "Epoch 280/300\n",
            "242/242 [==============================] - 0s 121us/step - loss: 0.3636 - acc: 0.8512\n",
            "Epoch 281/300\n",
            "242/242 [==============================] - 0s 130us/step - loss: 0.3599 - acc: 0.8554\n",
            "Epoch 282/300\n",
            "242/242 [==============================] - 0s 123us/step - loss: 0.3689 - acc: 0.8347\n",
            "Epoch 283/300\n",
            "242/242 [==============================] - 0s 128us/step - loss: 0.3785 - acc: 0.8306\n",
            "Epoch 284/300\n",
            "242/242 [==============================] - 0s 126us/step - loss: 0.3619 - acc: 0.8430\n",
            "Epoch 285/300\n",
            "242/242 [==============================] - 0s 125us/step - loss: 0.3663 - acc: 0.8471\n",
            "Epoch 286/300\n",
            "242/242 [==============================] - 0s 127us/step - loss: 0.3636 - acc: 0.8306\n",
            "Epoch 287/300\n",
            "242/242 [==============================] - 0s 126us/step - loss: 0.3804 - acc: 0.8306\n",
            "Epoch 288/300\n",
            "242/242 [==============================] - 0s 130us/step - loss: 0.3760 - acc: 0.8471\n",
            "Epoch 289/300\n",
            "242/242 [==============================] - 0s 125us/step - loss: 0.3727 - acc: 0.8388\n",
            "Epoch 290/300\n",
            "242/242 [==============================] - 0s 124us/step - loss: 0.3601 - acc: 0.8471\n",
            "Epoch 291/300\n",
            "242/242 [==============================] - 0s 125us/step - loss: 0.3667 - acc: 0.8347\n",
            "Epoch 292/300\n",
            "242/242 [==============================] - 0s 124us/step - loss: 0.3678 - acc: 0.8388\n",
            "Epoch 293/300\n",
            "242/242 [==============================] - 0s 128us/step - loss: 0.3625 - acc: 0.8595\n",
            "Epoch 294/300\n",
            "242/242 [==============================] - 0s 125us/step - loss: 0.3794 - acc: 0.8388\n",
            "Epoch 295/300\n",
            "242/242 [==============================] - 0s 132us/step - loss: 0.3635 - acc: 0.8388\n",
            "Epoch 296/300\n",
            "242/242 [==============================] - 0s 125us/step - loss: 0.3685 - acc: 0.8430\n",
            "Epoch 297/300\n",
            "242/242 [==============================] - 0s 125us/step - loss: 0.3695 - acc: 0.8388\n",
            "Epoch 298/300\n",
            "242/242 [==============================] - 0s 121us/step - loss: 0.3844 - acc: 0.8347\n",
            "Epoch 299/300\n",
            "242/242 [==============================] - 0s 130us/step - loss: 0.3653 - acc: 0.8471\n",
            "Epoch 300/300\n",
            "242/242 [==============================] - 0s 142us/step - loss: 0.3721 - acc: 0.8471\n"
          ]
        },
        {
          "data": {
            "text/plain": [
              "<keras.callbacks.History at 0x7f74eb3f4da0>"
            ]
          },
          "execution_count": 67,
          "metadata": {},
          "output_type": "execute_result"
        }
      ],
      "source": [
        "model.fit(X_train,Y_train,epochs=300)"
      ]
    },
    {
      "cell_type": "code",
      "execution_count": null,
      "metadata": {
        "_uuid": "c844af4f00d40c4cce4c4e5a9a01c9a892e9533d",
        "id": "wMEJRx0iV4-R"
      },
      "outputs": [],
      "source": [
        "Y_pred_nn = model.predict(X_test)"
      ]
    },
    {
      "cell_type": "code",
      "execution_count": null,
      "metadata": {
        "_uuid": "7e95c4946c0103225663862f43f31c41ed5aa2b1",
        "id": "WgPTsTzkV4-S",
        "outputId": "93d92367-cf10-496a-8cba-7c78e62cc088"
      },
      "outputs": [
        {
          "data": {
            "text/plain": [
              "(61, 1)"
            ]
          },
          "execution_count": 69,
          "metadata": {},
          "output_type": "execute_result"
        }
      ],
      "source": [
        "Y_pred_nn.shape"
      ]
    },
    {
      "cell_type": "code",
      "execution_count": null,
      "metadata": {
        "_uuid": "66d9268e3f87b5a98066196eaa39363218a20015",
        "id": "m1oZXrSoV4-S"
      },
      "outputs": [],
      "source": [
        "rounded = [round(x[0]) for x in Y_pred_nn]\n",
        "\n",
        "Y_pred_nn = rounded"
      ]
    },
    {
      "cell_type": "code",
      "execution_count": null,
      "metadata": {
        "_uuid": "888d79632c3191c2d11c1ec3da8dc750c9d95424",
        "id": "x5yEKOt6V4-S",
        "outputId": "7d41b1bc-4e74-4f10-aec5-29a0484bc9b3"
      },
      "outputs": [
        {
          "name": "stdout",
          "output_type": "stream",
          "text": [
            "The accuracy score achieved using Neural Network is: 80.33 %\n"
          ]
        }
      ],
      "source": [
        "score_nn = round(accuracy_score(Y_pred_nn,Y_test)*100,2)\n",
        "\n",
        "print(\"The accuracy score achieved using Neural Network is: \"+str(score_nn)+\" %\")\n",
        "\n",
        "#Note: Accuracy of 85% can be achieved on the test set, by setting epochs=2000, and number of nodes = 11. "
      ]
    },
    {
      "cell_type": "markdown",
      "metadata": {
        "_uuid": "c634cd922d716d350f6db0244772260cc598dec4",
        "id": "GYcSqrvFV4-S"
      },
      "source": [
        "## VI. Output final score"
      ]
    },
    {
      "cell_type": "code",
      "execution_count": null,
      "metadata": {
        "_uuid": "101daa51242624c49bb8b3198d9d2c9f8f1c596e",
        "id": "L_L5lpFfV4-S",
        "outputId": "9827c428-aa0b-44b6-c765-ed9dfd7544e3"
      },
      "outputs": [
        {
          "name": "stdout",
          "output_type": "stream",
          "text": [
            "The accuracy score achieved using Logistic Regression is: 85.25 %\n",
            "The accuracy score achieved using Naive Bayes is: 85.25 %\n",
            "The accuracy score achieved using Support Vector Machine is: 81.97 %\n",
            "The accuracy score achieved using K-Nearest Neighbors is: 67.21 %\n",
            "The accuracy score achieved using Decision Tree is: 81.97 %\n",
            "The accuracy score achieved using Random Forest is: 95.08 %\n",
            "The accuracy score achieved using XGBoost is: 85.25 %\n",
            "The accuracy score achieved using Neural Network is: 80.33 %\n"
          ]
        }
      ],
      "source": [
        "scores = [score_lr,score_nb,score_svm,score_knn,score_dt,score_rf,score_xgb,score_nn]\n",
        "algorithms = [\"Logistic Regression\",\"Naive Bayes\",\"Support Vector Machine\",\"K-Nearest Neighbors\",\"Decision Tree\",\"Random Forest\",\"XGBoost\",\"Neural Network\"]    \n",
        "\n",
        "for i in range(len(algorithms)):\n",
        "    print(\"The accuracy score achieved using \"+algorithms[i]+\" is: \"+str(scores[i])+\" %\")"
      ]
    },
    {
      "cell_type": "code",
      "execution_count": null,
      "metadata": {
        "_uuid": "8060c7d426f9f7b64772f37e0a74ededca16838d",
        "id": "BPWiOXT4V4-S",
        "outputId": "1b9c92b9-a4fd-42ac-d463-01c159c8db36"
      },
      "outputs": [
        {
          "data": {
            "text/plain": [
              "<matplotlib.axes._subplots.AxesSubplot at 0x7f74ea800eb8>"
            ]
          },
          "execution_count": 73,
          "metadata": {},
          "output_type": "execute_result"
        },
        {
          "data": {
            "image/png": "[encoded data removed]",
            "text/plain": [
              "<Figure size 1080x576 with 1 Axes>"
            ]
          },
          "metadata": {},
          "output_type": "display_data"
        }
      ],
      "source": [
        "sns.set(rc={'figure.figsize':(15,8)})\n",
        "plt.xlabel(\"Algorithms\")\n",
        "plt.ylabel(\"Accuracy score\")\n",
        "\n",
        "sns.barplot(algorithms,scores)"
      ]
    },
    {
      "cell_type": "markdown",
      "metadata": {
        "_uuid": "16759e71e0db7e5458cd37a19fbf7b21c24e7301",
        "id": "BDAOKt2NV4-S"
      },
      "source": []
    }
  ],
  "metadata": {
    "kernelspec": {
      "display_name": "Python 3",
      "language": "python",
      "name": "python3"
    },
    "language_info": {
      "codemirror_mode": {
        "name": "ipython",
        "version": 3
      },
      "file_extension": ".py",
      "mimetype": "text/x-python",
      "name": "python",
      "nbconvert_exporter": "python",
      "pygments_lexer": "ipython3",
      "version": "3.6.2"
    },
    "colab": {
      "provenance": []
    }
  },
  "nbformat": 4,
  "nbformat_minor": 0
}